{
 "cells": [
  {
   "cell_type": "code",
   "execution_count": 1,
   "id": "3cfae8ac",
   "metadata": {},
   "outputs": [
    {
     "data": {
      "text/plain": [
       "<torch._C.Generator at 0x130060fe830>"
      ]
     },
     "execution_count": 1,
     "metadata": {},
     "output_type": "execute_result"
    }
   ],
   "source": [
    "import copy\n",
    "import math\n",
    "import keras \n",
    "import rawpy\n",
    "import random\n",
    "\n",
    "import cv2 as cv\n",
    "import numpy as np\n",
    "import pandas as pd\n",
    "import tensorflow as tf\n",
    "import matplotlib.pyplot as plt\n",
    "import os\n",
    "from PIL import Image\n",
    "from keras.callbacks import ReduceLROnPlateau\n",
    "from keras.models import Sequential\n",
    "from keras.models import load_model\n",
    "from keras.layers import Dense\n",
    "from keras.layers import LSTM,Embedding,Dropout,Reshape\n",
    "from tensorflow.keras.utils import to_categorical\n",
    "from tensorflow.keras import layers\n",
    "from tensorflow.python.keras import backend as K\n",
    "from tensorflow.python.client import device_lib\n",
    "from tensorflow.compat.v1.keras.layers import CuDNNLSTM\n",
    "from sklearn.model_selection import train_test_split\n",
    "from sklearn.metrics import cohen_kappa_score\n",
    "from sklearn.metrics import confusion_matrix\n",
    "from sklearn.metrics import accuracy_score\n",
    "from sklearn.metrics import classification_report\n",
    "from sklearn.neighbors import KNeighborsClassifier\n",
    "from sklearn.preprocessing import StandardScaler\n",
    "\n",
    "import torch\n",
    "from torch import nn\n",
    "\n",
    "import math\n",
    "import matplotlib.pyplot as plt\n",
    "torch.manual_seed(11)"
   ]
  },
  {
   "cell_type": "code",
   "execution_count": 2,
   "id": "1ae8cf6d",
   "metadata": {},
   "outputs": [],
   "source": [
    "from random import Random\n",
    "\n",
    "def get_train_data(dataset, size_of_training):\n",
    "    train_changed = [element for element in dataset if element[4] == 0][0:size_of_training]\n",
    "    train_unchanged = [np.append(element[:-1],1) for element in dataset if element[4] == 255 ][0:size_of_training]\n",
    "    train_data = list(np.vstack([train_changed, train_unchanged]))\n",
    "    random.shuffle(train_data)\n",
    "    train_data = np.array(train_data)\n",
    "\n",
    "    trainX = train_data[:,:-1]\n",
    "    trainY = train_data[:, -1]\n",
    "    return trainX, trainY\n",
    "\n",
    "def get_train_separated(dataset, size_of_training):\n",
    "    train_changed = [element for element in dataset if element[4] == 0][0:size_of_training]\n",
    "    train_unchanged = [np.append(element[:-1],1) for element in dataset if element[4] == 255 ][0:size_of_training]\n",
    "    return train_changed, train_unchanged\n",
    "\n",
    "\n",
    "def get_train_data_randomised(dataset, size_of_training):\n",
    "    reshaped_dataset = copy.copy(dataset)\n",
    "    print(f\"element before shyffle {reshaped_dataset[0:10]}\")\n",
    "    Random(202).shuffle(reshaped_dataset)\n",
    "    print(f\" element after shuffle {reshaped_dataset[0:10]}\")\n",
    "    train_changed = [element for element in reshaped_dataset if element[4] == 0][0:size_of_training]\n",
    "    train_unchanged = [np.append(element[:-1],1) for element in reshaped_dataset if element[4] == 255 ][0:size_of_training]\n",
    "    train_data = list(np.vstack([train_changed, train_unchanged]))\n",
    "    Random(202).shuffle(train_data)\n",
    "    train_data = np.array(train_data)\n",
    "    trainX = train_data[:,:-1]\n",
    "    trainY = train_data[:, -1]\n",
    "    return trainX, trainY\n",
    "\n",
    "def import_data():\n",
    "    lst_of_img = []\n",
    "    for path in lst_path:\n",
    "        npimg = np.fromfile(path, dtype=np.uint8)\n",
    "        imageSize = (360, 512)\n",
    "        npimg = npimg.reshape(imageSize)\n",
    "        #npimg = cv.equalizeHist(npimg)\n",
    "        lst_of_img.append(npimg)\n",
    "    return lst_of_img\n",
    "\n",
    "def reshape_data(trainX,trainY,X,Y):\n",
    "    #X = sc.fit_transform(X)\n",
    "    X = np.float32(np.reshape(X,(np.shape(X)[0],2,2)))\n",
    "    Y = np.float32(np.reshape(Y,(np.shape(Y)[0],1)))\n",
    "    #trainX = sc.transform(trainX)\n",
    "    trainX = np.float32(np.reshape(trainX,(trainX.shape[0],2,2)))\n",
    "    trainY = np.float32(np.reshape(trainY,(trainY.shape[0],1)))\n",
    "    # X = X/255.0   #Value norm \n",
    "    # \n",
    "   \n",
    "    return trainX, trainY, X, Y\n",
    "\n",
    "def plot_hist_for_y(y): \n",
    "    fig = plt.figure()\n",
    "    histograma = [0,0]\n",
    "    for line in y:\n",
    "        for clasa in line: \n",
    "            #print(int(clasa))\n",
    "            histograma[int(clasa)] += 1\n",
    "    ax = fig.add_axes([0,0,1,1])\n",
    "    ax.bar(CATEGORIES,histograma)\n",
    "    plt.show()\n",
    "    \n",
    "def define_cudnn_model():\n",
    "    model = Sequential()\n",
    "    model.add(CuDNNLSTM(128, input_shape=(2,2), return_sequences=True))\n",
    "    model.add(Dropout(0.2))\n",
    "    model.add(CuDNNLSTM(128))\n",
    "    model.add(Dropout(0.2))\n",
    "    model.add(Dense(32, activation='relu'))\n",
    "    model.add(Dropout(0.2))\n",
    "    model.add(Dense(2, activation='sigmoid'))\n",
    "\n",
    "    opt = tf.keras.optimizers.Adam(lr=0.001, decay=1e-6)\n",
    "\n",
    "    model.compile(\n",
    "        loss='sparse_categorical_crossentropy',\n",
    "        optimizer=opt,\n",
    "        metrics=['accuracy'],\n",
    "    )\n",
    "    return model\n",
    "\n",
    "def define_clasical_model():\n",
    "    model = Sequential()\n",
    "    model.add(LSTM(128, input_shape=(2,2), activation='relu', return_sequences=True))\n",
    "    model.add(Dropout(0.5))\n",
    "    model.add(LSTM(128, activation='relu'))\n",
    "    model.add(Dropout(0.5))\n",
    "    model.add(Dense(32, activation='relu'))\n",
    "    model.add(Dropout(0.5))\n",
    "    model.add(Dense(2, activation='sigmoid'))\n",
    "\n",
    "    opt = tf.keras.optimizers.Adam(lr=0.001, decay=1e-6)\n",
    "\n",
    "    model.compile(\n",
    "        loss='sparse_categorical_crossentropy',\n",
    "        optimizer=opt,\n",
    "        metrics=['accuracy'],\n",
    "    )\n",
    "    return model\n",
    "\n",
    "\n",
    "def score_model(size_of_training):\n",
    "    lst_of_img = import_data()\n",
    "    reshaped_dataset = np.array(np.reshape(lst_of_img, [5, 360*512])).transpose()\n",
    "\n",
    "    X = reshaped_dataset[:,:-1]\n",
    "    Y = [element if element == 0 else 1 for element in reshaped_dataset[:,-1] ] # 0 means changed\n",
    "\n",
    "    trainX,trainY = get_train_data_randomised(reshaped_dataset, size_of_training)\n",
    "    trainX,trainY,X,Y = reshape_data(trainX,trainY,X,Y)\n",
    "\n",
    "    model = define_clasical_model()\n",
    "\n",
    "    model.summary()\n",
    "    es_callback = keras.callbacks.EarlyStopping(monitor='loss', patience=1)\n",
    "    lrr= ReduceLROnPlateau(monitor='accuracy',   factor=.001,   patience=1,  min_lr=1e-5) \n",
    "\n",
    "    model.fit(trainX,\n",
    "              trainY,\n",
    "              epochs=200,\n",
    "              batch_size=1,\n",
    "              verbose=2,\n",
    "              callbacks=[lrr,es_callback]\n",
    "             )\n",
    "    \n",
    "    y_pred = np.argmax(model.predict(X[:]), axis=-1)\n",
    "    y_pred_reshaped = np.reshape(y_pred,(360, 512))\n",
    "    y_pred_reshaped = [[element if element == 0 else 255 for element in line] for line in y_pred_reshaped[:] ] # 0 means changed\n",
    "    \n",
    "    path  = f\"./results_test_special/size_of_training_{size_of_training}/\"\n",
    "    isExist = os.path.exists(path)\n",
    "\n",
    "    if not isExist:\n",
    "        os.makedirs(path)\n",
    "    \n",
    "    plt.figure\n",
    "    plt.title('LSTM classification')\n",
    "    plt.imshow(y_pred_reshaped, cmap = \"gray\")\n",
    "    plt.savefig(f'./results_test_special/size_of_training_{size_of_training}/LSTM_classif.png')\n",
    "\n",
    "    plt.figure\n",
    "    plt.title('GroundTruth')\n",
    "    plt.imshow(lst_of_img[4], cmap = \"gray\")\n",
    "    plt.savefig(f'./results_test_special/size_of_training_{size_of_training}/GroundTruth.png')\n",
    "\n",
    "    val = copy.copy(lst_of_img[4])\n",
    "    for i in range(0,360):\n",
    "        for j in range(512):\n",
    "            #print(f\"lst_of_img[4] = {lst_of_img[4][i][j]},  y_pred_reshaped[i][j] = { y_pred_reshaped[i][j]}\")\n",
    "            val[i][j] = abs(lst_of_img[4][i][j] - y_pred_reshaped[i][j])\n",
    "\n",
    "    wrong_count = 0\n",
    "    correct_count = 0\n",
    "    for line in val:\n",
    "        for elem in line:\n",
    "            if elem == 255:\n",
    "                wrong_count += 1\n",
    "            else:\n",
    "                correct_count += 1\n",
    "                \n",
    "    file_name = f'./results_test_special/size_of_training_{size_of_training}/result.txt'\n",
    "    \n",
    "    with open(file_name, 'w') as x_file:\n",
    "        x_file.write('{} size of train\\n'.format(np.shape(trainX)))\n",
    "    \n",
    "    with open(file_name, 'a') as x_file:\n",
    "        x_file.write('{} wrong_count\\n'.format(wrong_count))\n",
    "        \n",
    "    print('The count of wrong predicted elemnts is ', wrong_count) \n",
    "    print('The count of correct predicted elemnts is ', correct_count) \n",
    "    with open(file_name, 'a') as x_file:\n",
    "        x_file.write('{} correct_count\\n'.format(correct_count))\n",
    "        \n",
    "    print(f\"Kappa score for the opperation is: {cohen_kappa_score(y_pred,Y)}\")\n",
    "    with open(file_name, 'a') as x_file:\n",
    "        x_file.write('{} cohen_kappa_score(y_pred,Y)\\n'.format(cohen_kappa_score(y_pred,Y)))\n",
    "        \n",
    "    print(classification_report(Y, y_pred, digits=4))\n",
    "    with open(file_name, 'a') as x_file:\n",
    "        x_file.write('{} classification_report(Y, y_pred, digits=4)\\n'.format(classification_report(Y, y_pred, digits=4)))\n",
    "        \n",
    "    cm = confusion_matrix(y_true = Y[:] ,y_pred = y_pred)\n",
    "    print(cm)\n",
    "    with open(file_name, 'a') as x_file:\n",
    "        x_file.write('{} cm \\n'.format(cm))\n",
    "        \n",
    "    plt.imshow(val, cmap = \"gray\")\n",
    "    plt.title(\"white = wrong classified pixels\")\n",
    "    plt.savefig(f'./results_test_special/size_of_training_{size_of_training}/wrong_class_pixels.png')\n",
    "\n",
    "\n",
    "    FN = cm[0][1]\n",
    "    TP = cm[0][0]\n",
    "    FP = cm[1][0]\n",
    "    TN = cm[1][1]\n",
    "    MA = FN/(TP + FN)*100    #missed alarm rate\n",
    "    FA = FP/(TP + FP)*100    #False alarm rate\n",
    "    P = TP/(TP+FP)*100\n",
    "    A = (TP + TN)/(TP + FN + FP + TN)*100\n",
    "    R = TP/(TP+FN)*100       #Recall (True Positive Rate)\n",
    "    S = TN/(TN + FP)*100     #Transferability  (True Negative Rate)\n",
    "\n",
    "    print(f\"Precision: {P:.2f} %\")\n",
    "    print(f\"Accuracy: {A:.2f} %\")\n",
    "    print(f\"Recall (True Positive Rate): {R:.2f} %\")\n",
    "    print(f\"Transferability  (True Negative Rate): {S:.2f} %\")\n",
    "    print(f\"Missed alarm rate: {MA:.2f} %\")\n",
    "    print(f\"False alarm rate: {FA:.2f} %\")\n",
    "    \n",
    "    with open(file_name, 'a') as x_file:\n",
    "        x_file.write(f'{P:.2f} Precision \\n')\n",
    "        x_file.write(f'{A:.2f} Accuracy \\n')\n",
    "        x_file.write(f'{R:.2f} Recall \\n')\n",
    "        x_file.write(f'{S:.2f} Transferability \\n')\n",
    "        x_file.write(f'{MA:.2f} Missed alarm rate \\n')\n",
    "        x_file.write(f'{FA:.2f} False alarm rate \\n')\n",
    "        \n",
    "\n",
    "\n"
   ]
  },
  {
   "cell_type": "code",
   "execution_count": 3,
   "id": "abd78aa5",
   "metadata": {},
   "outputs": [],
   "source": [
    "#Globals\n",
    "CATEGORIES = [\"CHANGED\", \"UNCHANGED\"]\n",
    "lst_path = ['.\\Mexico\\\\aprile2000b4.raw',\n",
    "           '.\\Mexico\\\\aprile2000b5.raw',\n",
    "           '.\\Mexico\\\\maggio2002b4.raw',\n",
    "           '.\\Mexico\\\\maggio2002b5.raw',\n",
    "           '.\\Mexico\\\\groundtruth360x512.raw',          \n",
    "           ]\n",
    "size_of_training = 25\n",
    "random.seed(101)\n",
    "sc = StandardScaler()"
   ]
  },
  {
   "cell_type": "code",
   "execution_count": 4,
   "id": "3dc30e93",
   "metadata": {},
   "outputs": [
    {
     "name": "stdout",
     "output_type": "stream",
     "text": [
      "(360, 512)\n",
      "(360, 512)\n",
      "(360, 512)\n",
      "(360, 512)\n",
      "(360, 512)\n"
     ]
    },
    {
     "data": {
      "text/plain": [
       "<matplotlib.image.AxesImage at 0x13007bb7308>"
      ]
     },
     "execution_count": 4,
     "metadata": {},
     "output_type": "execute_result"
    },
    {
     "data": {
      "image/png": "[encoded data removed]",
      "text/plain": [
       "<Figure size 432x288 with 1 Axes>"
      ]
     },
     "metadata": {
      "needs_background": "light"
     },
     "output_type": "display_data"
    }
   ],
   "source": [
    "lst_of_img = import_data()\n",
    "for i in range(0, len(lst_of_img)):\n",
    "    print(np.shape(lst_of_img[i]))\n",
    "    #plt.imshow(lst_of_img[i], cmap = \"gray\")\n",
    "    #plt.show()\n",
    "    \n",
    "plt.imshow(lst_of_img[2][0:90,0:128])"
   ]
  },
  {
   "cell_type": "code",
   "execution_count": 5,
   "id": "49ef23b0",
   "metadata": {},
   "outputs": [
    {
     "name": "stdout",
     "output_type": "stream",
     "text": [
      "(90, 128)\n"
     ]
    }
   ],
   "source": [
    "print(np.shape(lst_of_img[0][0:90,384:512]))\n"
   ]
  },
  {
   "cell_type": "code",
   "execution_count": 6,
   "id": "9898f949",
   "metadata": {
    "scrolled": true
   },
   "outputs": [
    {
     "name": "stdout",
     "output_type": "stream",
     "text": [
      "i = 0, y = 0, x = 0, y:y + 90 = 90, x:x + 128 = 128\n",
      "(45, 64)\n",
      "i = 1, y = 0, x = 0, y:y + 90 = 90, x:x + 128 = 128\n",
      "(45, 64)\n",
      "i = 2, y = 0, x = 0, y:y + 90 = 90, x:x + 128 = 128\n",
      "(45, 64)\n",
      "i = 3, y = 0, x = 0, y:y + 90 = 90, x:x + 128 = 128\n",
      "(45, 64)\n",
      "i = 4, y = 0, x = 0, y:y + 90 = 90, x:x + 128 = 128\n"
     ]
    },
    {
     "data": {
      "image/png": "[encoded data removed]",
      "text/plain": [
       "<Figure size 432x288 with 1 Axes>"
      ]
     },
     "metadata": {
      "needs_background": "light"
     },
     "output_type": "display_data"
    },
    {
     "name": "stdout",
     "output_type": "stream",
     "text": [
      "(45, 64)\n",
      "i = 0, y = 0, x = 64, y:y + 90 = 90, x:x + 128 = 192\n",
      "(45, 64)\n",
      "i = 1, y = 0, x = 64, y:y + 90 = 90, x:x + 128 = 192\n",
      "(45, 64)\n",
      "i = 2, y = 0, x = 64, y:y + 90 = 90, x:x + 128 = 192\n",
      "(45, 64)\n",
      "i = 3, y = 0, x = 64, y:y + 90 = 90, x:x + 128 = 192\n",
      "(45, 64)\n",
      "i = 4, y = 0, x = 64, y:y + 90 = 90, x:x + 128 = 192\n"
     ]
    },
    {
     "data": {
      "image/png": "[encoded data removed]",
      "text/plain": [
       "<Figure size 432x288 with 1 Axes>"
      ]
     },
     "metadata": {
      "needs_background": "light"
     },
     "output_type": "display_data"
    },
    {
     "name": "stdout",
     "output_type": "stream",
     "text": [
      "(45, 64)\n",
      "i = 0, y = 0, x = 128, y:y + 90 = 90, x:x + 128 = 256\n",
      "(45, 64)\n",
      "i = 1, y = 0, x = 128, y:y + 90 = 90, x:x + 128 = 256\n",
      "(45, 64)\n",
      "i = 2, y = 0, x = 128, y:y + 90 = 90, x:x + 128 = 256\n",
      "(45, 64)\n",
      "i = 3, y = 0, x = 128, y:y + 90 = 90, x:x + 128 = 256\n",
      "(45, 64)\n",
      "i = 4, y = 0, x = 128, y:y + 90 = 90, x:x + 128 = 256\n"
     ]
    },
    {
     "data": {
      "image/png": "[encoded data removed]",
      "text/plain": [
       "<Figure size 432x288 with 1 Axes>"
      ]
     },
     "metadata": {
      "needs_background": "light"
     },
     "output_type": "display_data"
    },
    {
     "name": "stdout",
     "output_type": "stream",
     "text": [
      "(45, 64)\n",
      "i = 0, y = 0, x = 192, y:y + 90 = 90, x:x + 128 = 320\n",
      "(45, 64)\n",
      "i = 1, y = 0, x = 192, y:y + 90 = 90, x:x + 128 = 320\n",
      "(45, 64)\n",
      "i = 2, y = 0, x = 192, y:y + 90 = 90, x:x + 128 = 320\n",
      "(45, 64)\n",
      "i = 3, y = 0, x = 192, y:y + 90 = 90, x:x + 128 = 320\n",
      "(45, 64)\n",
      "i = 4, y = 0, x = 192, y:y + 90 = 90, x:x + 128 = 320\n"
     ]
    },
    {
     "data": {
      "image/png": "[encoded data removed]",
      "text/plain": [
       "<Figure size 432x288 with 1 Axes>"
      ]
     },
     "metadata": {
      "needs_background": "light"
     },
     "output_type": "display_data"
    },
    {
     "name": "stdout",
     "output_type": "stream",
     "text": [
      "(45, 64)\n",
      "i = 0, y = 0, x = 256, y:y + 90 = 90, x:x + 128 = 384\n",
      "(45, 64)\n",
      "i = 1, y = 0, x = 256, y:y + 90 = 90, x:x + 128 = 384\n",
      "(45, 64)\n",
      "i = 2, y = 0, x = 256, y:y + 90 = 90, x:x + 128 = 384\n",
      "(45, 64)\n",
      "i = 3, y = 0, x = 256, y:y + 90 = 90, x:x + 128 = 384\n",
      "(45, 64)\n",
      "i = 4, y = 0, x = 256, y:y + 90 = 90, x:x + 128 = 384\n"
     ]
    },
    {
     "data": {
      "image/png": "[encoded data removed]",
      "text/plain": [
       "<Figure size 432x288 with 1 Axes>"
      ]
     },
     "metadata": {
      "needs_background": "light"
     },
     "output_type": "display_data"
    },
    {
     "name": "stdout",
     "output_type": "stream",
     "text": [
      "(45, 64)\n",
      "i = 0, y = 0, x = 320, y:y + 90 = 90, x:x + 128 = 448\n",
      "(45, 64)\n",
      "i = 1, y = 0, x = 320, y:y + 90 = 90, x:x + 128 = 448\n",
      "(45, 64)\n",
      "i = 2, y = 0, x = 320, y:y + 90 = 90, x:x + 128 = 448\n",
      "(45, 64)\n",
      "i = 3, y = 0, x = 320, y:y + 90 = 90, x:x + 128 = 448\n",
      "(45, 64)\n",
      "i = 4, y = 0, x = 320, y:y + 90 = 90, x:x + 128 = 448\n"
     ]
    },
    {
     "data": {
      "image/png": "[encoded data removed]",
      "text/plain": [
       "<Figure size 432x288 with 1 Axes>"
      ]
     },
     "metadata": {
      "needs_background": "light"
     },
     "output_type": "display_data"
    },
    {
     "name": "stdout",
     "output_type": "stream",
     "text": [
      "(45, 64)\n",
      "i = 0, y = 0, x = 384, y:y + 90 = 90, x:x + 128 = 512\n",
      "(45, 64)\n",
      "i = 1, y = 0, x = 384, y:y + 90 = 90, x:x + 128 = 512\n",
      "(45, 64)\n",
      "i = 2, y = 0, x = 384, y:y + 90 = 90, x:x + 128 = 512\n",
      "(45, 64)\n",
      "i = 3, y = 0, x = 384, y:y + 90 = 90, x:x + 128 = 512\n",
      "(45, 64)\n",
      "i = 4, y = 0, x = 384, y:y + 90 = 90, x:x + 128 = 512\n"
     ]
    },
    {
     "data": {
      "image/png": "[encoded data removed]",
      "text/plain": [
       "<Figure size 432x288 with 1 Axes>"
      ]
     },
     "metadata": {
      "needs_background": "light"
     },
     "output_type": "display_data"
    },
    {
     "name": "stdout",
     "output_type": "stream",
     "text": [
      "(45, 64)\n",
      "i = 0, y = 0, x = 448, y:y + 90 = 90, x:x + 128 = 576\n",
      "(45, 64)\n",
      "i = 1, y = 0, x = 448, y:y + 90 = 90, x:x + 128 = 576\n",
      "(45, 64)\n",
      "i = 2, y = 0, x = 448, y:y + 90 = 90, x:x + 128 = 576\n",
      "(45, 64)\n",
      "i = 3, y = 0, x = 448, y:y + 90 = 90, x:x + 128 = 576\n",
      "(45, 64)\n",
      "i = 4, y = 0, x = 448, y:y + 90 = 90, x:x + 128 = 576\n"
     ]
    },
    {
     "data": {
      "image/png": "[encoded data removed]",
      "text/plain": [
       "<Figure size 432x288 with 1 Axes>"
      ]
     },
     "metadata": {
      "needs_background": "light"
     },
     "output_type": "display_data"
    },
    {
     "name": "stdout",
     "output_type": "stream",
     "text": [
      "(45, 64)\n",
      "i = 0, y = 45, x = 0, y:y + 90 = 135, x:x + 128 = 128\n",
      "(45, 64)\n",
      "i = 1, y = 45, x = 0, y:y + 90 = 135, x:x + 128 = 128\n",
      "(45, 64)\n",
      "i = 2, y = 45, x = 0, y:y + 90 = 135, x:x + 128 = 128\n",
      "(45, 64)\n",
      "i = 3, y = 45, x = 0, y:y + 90 = 135, x:x + 128 = 128\n",
      "(45, 64)\n",
      "i = 4, y = 45, x = 0, y:y + 90 = 135, x:x + 128 = 128\n"
     ]
    },
    {
     "data": {
      "image/png": "[encoded data removed]",
      "text/plain": [
       "<Figure size 432x288 with 1 Axes>"
      ]
     },
     "metadata": {
      "needs_background": "light"
     },
     "output_type": "display_data"
    },
    {
     "name": "stdout",
     "output_type": "stream",
     "text": [
      "(45, 64)\n",
      "i = 0, y = 45, x = 64, y:y + 90 = 135, x:x + 128 = 192\n",
      "(45, 64)\n",
      "i = 1, y = 45, x = 64, y:y + 90 = 135, x:x + 128 = 192\n",
      "(45, 64)\n",
      "i = 2, y = 45, x = 64, y:y + 90 = 135, x:x + 128 = 192\n",
      "(45, 64)\n",
      "i = 3, y = 45, x = 64, y:y + 90 = 135, x:x + 128 = 192\n",
      "(45, 64)\n",
      "i = 4, y = 45, x = 64, y:y + 90 = 135, x:x + 128 = 192\n"
     ]
    },
    {
     "data": {
      "image/png": "[encoded data removed]",
      "text/plain": [
       "<Figure size 432x288 with 1 Axes>"
      ]
     },
     "metadata": {
      "needs_background": "light"
     },
     "output_type": "display_data"
    },
    {
     "name": "stdout",
     "output_type": "stream",
     "text": [
      "(45, 64)\n",
      "i = 0, y = 45, x = 128, y:y + 90 = 135, x:x + 128 = 256\n",
      "(45, 64)\n",
      "i = 1, y = 45, x = 128, y:y + 90 = 135, x:x + 128 = 256\n",
      "(45, 64)\n",
      "i = 2, y = 45, x = 128, y:y + 90 = 135, x:x + 128 = 256\n",
      "(45, 64)\n",
      "i = 3, y = 45, x = 128, y:y + 90 = 135, x:x + 128 = 256\n",
      "(45, 64)\n",
      "i = 4, y = 45, x = 128, y:y + 90 = 135, x:x + 128 = 256\n"
     ]
    },
    {
     "data": {
      "image/png": "[encoded data removed]",
      "text/plain": [
       "<Figure size 432x288 with 1 Axes>"
      ]
     },
     "metadata": {
      "needs_background": "light"
     },
     "output_type": "display_data"
    },
    {
     "name": "stdout",
     "output_type": "stream",
     "text": [
      "(45, 64)\n",
      "i = 0, y = 45, x = 192, y:y + 90 = 135, x:x + 128 = 320\n",
      "(45, 64)\n",
      "i = 1, y = 45, x = 192, y:y + 90 = 135, x:x + 128 = 320\n",
      "(45, 64)\n",
      "i = 2, y = 45, x = 192, y:y + 90 = 135, x:x + 128 = 320\n",
      "(45, 64)\n",
      "i = 3, y = 45, x = 192, y:y + 90 = 135, x:x + 128 = 320\n",
      "(45, 64)\n",
      "i = 4, y = 45, x = 192, y:y + 90 = 135, x:x + 128 = 320\n"
     ]
    },
    {
     "data": {
      "image/png": "[encoded data removed]",
      "text/plain": [
       "<Figure size 432x288 with 1 Axes>"
      ]
     },
     "metadata": {
      "needs_background": "light"
     },
     "output_type": "display_data"
    },
    {
     "name": "stdout",
     "output_type": "stream",
     "text": [
      "(45, 64)\n",
      "i = 0, y = 45, x = 256, y:y + 90 = 135, x:x + 128 = 384\n",
      "(45, 64)\n",
      "i = 1, y = 45, x = 256, y:y + 90 = 135, x:x + 128 = 384\n",
      "(45, 64)\n",
      "i = 2, y = 45, x = 256, y:y + 90 = 135, x:x + 128 = 384\n",
      "(45, 64)\n",
      "i = 3, y = 45, x = 256, y:y + 90 = 135, x:x + 128 = 384\n",
      "(45, 64)\n",
      "i = 4, y = 45, x = 256, y:y + 90 = 135, x:x + 128 = 384\n"
     ]
    },
    {
     "data": {
      "image/png": "[encoded data removed]",
      "text/plain": [
       "<Figure size 432x288 with 1 Axes>"
      ]
     },
     "metadata": {
      "needs_background": "light"
     },
     "output_type": "display_data"
    },
    {
     "name": "stdout",
     "output_type": "stream",
     "text": [
      "(45, 64)\n",
      "i = 0, y = 45, x = 320, y:y + 90 = 135, x:x + 128 = 448\n",
      "(45, 64)\n",
      "i = 1, y = 45, x = 320, y:y + 90 = 135, x:x + 128 = 448\n",
      "(45, 64)\n",
      "i = 2, y = 45, x = 320, y:y + 90 = 135, x:x + 128 = 448\n",
      "(45, 64)\n",
      "i = 3, y = 45, x = 320, y:y + 90 = 135, x:x + 128 = 448\n",
      "(45, 64)\n",
      "i = 4, y = 45, x = 320, y:y + 90 = 135, x:x + 128 = 448\n"
     ]
    },
    {
     "data": {
      "image/png": "[encoded data removed]",
      "text/plain": [
       "<Figure size 432x288 with 1 Axes>"
      ]
     },
     "metadata": {
      "needs_background": "light"
     },
     "output_type": "display_data"
    },
    {
     "name": "stdout",
     "output_type": "stream",
     "text": [
      "(45, 64)\n",
      "i = 0, y = 45, x = 384, y:y + 90 = 135, x:x + 128 = 512\n",
      "(45, 64)\n",
      "i = 1, y = 45, x = 384, y:y + 90 = 135, x:x + 128 = 512\n",
      "(45, 64)\n",
      "i = 2, y = 45, x = 384, y:y + 90 = 135, x:x + 128 = 512\n",
      "(45, 64)\n",
      "i = 3, y = 45, x = 384, y:y + 90 = 135, x:x + 128 = 512\n",
      "(45, 64)\n",
      "i = 4, y = 45, x = 384, y:y + 90 = 135, x:x + 128 = 512\n"
     ]
    },
    {
     "data": {
      "image/png": "[encoded data removed]",
      "text/plain": [
       "<Figure size 432x288 with 1 Axes>"
      ]
     },
     "metadata": {
      "needs_background": "light"
     },
     "output_type": "display_data"
    },
    {
     "name": "stdout",
     "output_type": "stream",
     "text": [
      "(45, 64)\n",
      "i = 0, y = 45, x = 448, y:y + 90 = 135, x:x + 128 = 576\n",
      "(45, 64)\n",
      "i = 1, y = 45, x = 448, y:y + 90 = 135, x:x + 128 = 576\n",
      "(45, 64)\n",
      "i = 2, y = 45, x = 448, y:y + 90 = 135, x:x + 128 = 576\n",
      "(45, 64)\n",
      "i = 3, y = 45, x = 448, y:y + 90 = 135, x:x + 128 = 576\n",
      "(45, 64)\n",
      "i = 4, y = 45, x = 448, y:y + 90 = 135, x:x + 128 = 576\n"
     ]
    },
    {
     "data": {
      "image/png": "[encoded data removed]",
      "text/plain": [
       "<Figure size 432x288 with 1 Axes>"
      ]
     },
     "metadata": {
      "needs_background": "light"
     },
     "output_type": "display_data"
    },
    {
     "name": "stdout",
     "output_type": "stream",
     "text": [
      "(45, 64)\n",
      "i = 0, y = 90, x = 0, y:y + 90 = 180, x:x + 128 = 128\n",
      "(45, 64)\n",
      "i = 1, y = 90, x = 0, y:y + 90 = 180, x:x + 128 = 128\n",
      "(45, 64)\n",
      "i = 2, y = 90, x = 0, y:y + 90 = 180, x:x + 128 = 128\n",
      "(45, 64)\n",
      "i = 3, y = 90, x = 0, y:y + 90 = 180, x:x + 128 = 128\n",
      "(45, 64)\n",
      "i = 4, y = 90, x = 0, y:y + 90 = 180, x:x + 128 = 128\n"
     ]
    },
    {
     "data": {
      "image/png": "[encoded data removed]",
      "text/plain": [
       "<Figure size 432x288 with 1 Axes>"
      ]
     },
     "metadata": {
      "needs_background": "light"
     },
     "output_type": "display_data"
    },
    {
     "name": "stdout",
     "output_type": "stream",
     "text": [
      "(45, 64)\n",
      "i = 0, y = 90, x = 64, y:y + 90 = 180, x:x + 128 = 192\n",
      "(45, 64)\n",
      "i = 1, y = 90, x = 64, y:y + 90 = 180, x:x + 128 = 192\n",
      "(45, 64)\n",
      "i = 2, y = 90, x = 64, y:y + 90 = 180, x:x + 128 = 192\n",
      "(45, 64)\n",
      "i = 3, y = 90, x = 64, y:y + 90 = 180, x:x + 128 = 192\n",
      "(45, 64)\n",
      "i = 4, y = 90, x = 64, y:y + 90 = 180, x:x + 128 = 192\n"
     ]
    },
    {
     "data": {
      "image/png": "[encoded data removed]",
      "text/plain": [
       "<Figure size 432x288 with 1 Axes>"
      ]
     },
     "metadata": {
      "needs_background": "light"
     },
     "output_type": "display_data"
    },
    {
     "name": "stdout",
     "output_type": "stream",
     "text": [
      "(45, 64)\n",
      "i = 0, y = 90, x = 128, y:y + 90 = 180, x:x + 128 = 256\n",
      "(45, 64)\n",
      "i = 1, y = 90, x = 128, y:y + 90 = 180, x:x + 128 = 256\n",
      "(45, 64)\n",
      "i = 2, y = 90, x = 128, y:y + 90 = 180, x:x + 128 = 256\n",
      "(45, 64)\n",
      "i = 3, y = 90, x = 128, y:y + 90 = 180, x:x + 128 = 256\n",
      "(45, 64)\n",
      "i = 4, y = 90, x = 128, y:y + 90 = 180, x:x + 128 = 256\n"
     ]
    },
    {
     "data": {
      "image/png": "[encoded data removed]",
      "text/plain": [
       "<Figure size 432x288 with 1 Axes>"
      ]
     },
     "metadata": {
      "needs_background": "light"
     },
     "output_type": "display_data"
    },
    {
     "name": "stdout",
     "output_type": "stream",
     "text": [
      "(45, 64)\n",
      "i = 0, y = 90, x = 192, y:y + 90 = 180, x:x + 128 = 320\n",
      "(45, 64)\n",
      "i = 1, y = 90, x = 192, y:y + 90 = 180, x:x + 128 = 320\n",
      "(45, 64)\n",
      "i = 2, y = 90, x = 192, y:y + 90 = 180, x:x + 128 = 320\n",
      "(45, 64)\n",
      "i = 3, y = 90, x = 192, y:y + 90 = 180, x:x + 128 = 320\n",
      "(45, 64)\n",
      "i = 4, y = 90, x = 192, y:y + 90 = 180, x:x + 128 = 320\n"
     ]
    },
    {
     "data": {
      "image/png": "[encoded data removed]",
      "text/plain": [
       "<Figure size 432x288 with 1 Axes>"
      ]
     },
     "metadata": {
      "needs_background": "light"
     },
     "output_type": "display_data"
    },
    {
     "name": "stdout",
     "output_type": "stream",
     "text": [
      "(45, 64)\n",
      "i = 0, y = 90, x = 256, y:y + 90 = 180, x:x + 128 = 384\n",
      "(45, 64)\n",
      "i = 1, y = 90, x = 256, y:y + 90 = 180, x:x + 128 = 384\n",
      "(45, 64)\n",
      "i = 2, y = 90, x = 256, y:y + 90 = 180, x:x + 128 = 384\n",
      "(45, 64)\n",
      "i = 3, y = 90, x = 256, y:y + 90 = 180, x:x + 128 = 384\n",
      "(45, 64)\n",
      "i = 4, y = 90, x = 256, y:y + 90 = 180, x:x + 128 = 384\n"
     ]
    },
    {
     "data": {
      "image/png": "[encoded data removed]",
      "text/plain": [
       "<Figure size 432x288 with 1 Axes>"
      ]
     },
     "metadata": {
      "needs_background": "light"
     },
     "output_type": "display_data"
    },
    {
     "name": "stdout",
     "output_type": "stream",
     "text": [
      "(45, 64)\n",
      "i = 0, y = 90, x = 320, y:y + 90 = 180, x:x + 128 = 448\n",
      "(45, 64)\n",
      "i = 1, y = 90, x = 320, y:y + 90 = 180, x:x + 128 = 448\n",
      "(45, 64)\n",
      "i = 2, y = 90, x = 320, y:y + 90 = 180, x:x + 128 = 448\n",
      "(45, 64)\n",
      "i = 3, y = 90, x = 320, y:y + 90 = 180, x:x + 128 = 448\n",
      "(45, 64)\n",
      "i = 4, y = 90, x = 320, y:y + 90 = 180, x:x + 128 = 448\n"
     ]
    },
    {
     "data": {
      "image/png": "[encoded data removed]",
      "text/plain": [
       "<Figure size 432x288 with 1 Axes>"
      ]
     },
     "metadata": {
      "needs_background": "light"
     },
     "output_type": "display_data"
    },
    {
     "name": "stdout",
     "output_type": "stream",
     "text": [
      "(45, 64)\n",
      "i = 0, y = 90, x = 384, y:y + 90 = 180, x:x + 128 = 512\n",
      "(45, 64)\n",
      "i = 1, y = 90, x = 384, y:y + 90 = 180, x:x + 128 = 512\n",
      "(45, 64)\n",
      "i = 2, y = 90, x = 384, y:y + 90 = 180, x:x + 128 = 512\n",
      "(45, 64)\n",
      "i = 3, y = 90, x = 384, y:y + 90 = 180, x:x + 128 = 512\n",
      "(45, 64)\n",
      "i = 4, y = 90, x = 384, y:y + 90 = 180, x:x + 128 = 512\n"
     ]
    },
    {
     "data": {
      "image/png": "[encoded data removed]",
      "text/plain": [
       "<Figure size 432x288 with 1 Axes>"
      ]
     },
     "metadata": {
      "needs_background": "light"
     },
     "output_type": "display_data"
    },
    {
     "name": "stdout",
     "output_type": "stream",
     "text": [
      "(45, 64)\n",
      "i = 0, y = 90, x = 448, y:y + 90 = 180, x:x + 128 = 576\n",
      "(45, 64)\n",
      "i = 1, y = 90, x = 448, y:y + 90 = 180, x:x + 128 = 576\n",
      "(45, 64)\n",
      "i = 2, y = 90, x = 448, y:y + 90 = 180, x:x + 128 = 576\n",
      "(45, 64)\n",
      "i = 3, y = 90, x = 448, y:y + 90 = 180, x:x + 128 = 576\n",
      "(45, 64)\n",
      "i = 4, y = 90, x = 448, y:y + 90 = 180, x:x + 128 = 576\n"
     ]
    },
    {
     "data": {
      "image/png": "[encoded data removed]",
      "text/plain": [
       "<Figure size 432x288 with 1 Axes>"
      ]
     },
     "metadata": {
      "needs_background": "light"
     },
     "output_type": "display_data"
    },
    {
     "name": "stdout",
     "output_type": "stream",
     "text": [
      "(45, 64)\n",
      "i = 0, y = 135, x = 0, y:y + 90 = 225, x:x + 128 = 128\n",
      "(45, 64)\n",
      "i = 1, y = 135, x = 0, y:y + 90 = 225, x:x + 128 = 128\n",
      "(45, 64)\n",
      "i = 2, y = 135, x = 0, y:y + 90 = 225, x:x + 128 = 128\n",
      "(45, 64)\n",
      "i = 3, y = 135, x = 0, y:y + 90 = 225, x:x + 128 = 128\n",
      "(45, 64)\n",
      "i = 4, y = 135, x = 0, y:y + 90 = 225, x:x + 128 = 128\n"
     ]
    },
    {
     "data": {
      "image/png": "[encoded data removed]",
      "text/plain": [
       "<Figure size 432x288 with 1 Axes>"
      ]
     },
     "metadata": {
      "needs_background": "light"
     },
     "output_type": "display_data"
    },
    {
     "name": "stdout",
     "output_type": "stream",
     "text": [
      "(45, 64)\n",
      "i = 0, y = 135, x = 64, y:y + 90 = 225, x:x + 128 = 192\n",
      "(45, 64)\n",
      "i = 1, y = 135, x = 64, y:y + 90 = 225, x:x + 128 = 192\n",
      "(45, 64)\n",
      "i = 2, y = 135, x = 64, y:y + 90 = 225, x:x + 128 = 192\n",
      "(45, 64)\n",
      "i = 3, y = 135, x = 64, y:y + 90 = 225, x:x + 128 = 192\n",
      "(45, 64)\n",
      "i = 4, y = 135, x = 64, y:y + 90 = 225, x:x + 128 = 192\n"
     ]
    },
    {
     "data": {
      "image/png": "[encoded data removed]",
      "text/plain": [
       "<Figure size 432x288 with 1 Axes>"
      ]
     },
     "metadata": {
      "needs_background": "light"
     },
     "output_type": "display_data"
    },
    {
     "name": "stdout",
     "output_type": "stream",
     "text": [
      "(45, 64)\n",
      "i = 0, y = 135, x = 128, y:y + 90 = 225, x:x + 128 = 256\n",
      "(45, 64)\n",
      "i = 1, y = 135, x = 128, y:y + 90 = 225, x:x + 128 = 256\n",
      "(45, 64)\n",
      "i = 2, y = 135, x = 128, y:y + 90 = 225, x:x + 128 = 256\n",
      "(45, 64)\n",
      "i = 3, y = 135, x = 128, y:y + 90 = 225, x:x + 128 = 256\n",
      "(45, 64)\n",
      "i = 4, y = 135, x = 128, y:y + 90 = 225, x:x + 128 = 256\n"
     ]
    },
    {
     "data": {
      "image/png": "[encoded data removed]",
      "text/plain": [
       "<Figure size 432x288 with 1 Axes>"
      ]
     },
     "metadata": {
      "needs_background": "light"
     },
     "output_type": "display_data"
    },
    {
     "name": "stdout",
     "output_type": "stream",
     "text": [
      "(45, 64)\n",
      "i = 0, y = 135, x = 192, y:y + 90 = 225, x:x + 128 = 320\n",
      "(45, 64)\n",
      "i = 1, y = 135, x = 192, y:y + 90 = 225, x:x + 128 = 320\n",
      "(45, 64)\n",
      "i = 2, y = 135, x = 192, y:y + 90 = 225, x:x + 128 = 320\n",
      "(45, 64)\n",
      "i = 3, y = 135, x = 192, y:y + 90 = 225, x:x + 128 = 320\n",
      "(45, 64)\n",
      "i = 4, y = 135, x = 192, y:y + 90 = 225, x:x + 128 = 320\n"
     ]
    },
    {
     "data": {
      "image/png": "[encoded data removed]",
      "text/plain": [
       "<Figure size 432x288 with 1 Axes>"
      ]
     },
     "metadata": {
      "needs_background": "light"
     },
     "output_type": "display_data"
    },
    {
     "name": "stdout",
     "output_type": "stream",
     "text": [
      "(45, 64)\n",
      "i = 0, y = 135, x = 256, y:y + 90 = 225, x:x + 128 = 384\n",
      "(45, 64)\n",
      "i = 1, y = 135, x = 256, y:y + 90 = 225, x:x + 128 = 384\n",
      "(45, 64)\n",
      "i = 2, y = 135, x = 256, y:y + 90 = 225, x:x + 128 = 384\n",
      "(45, 64)\n",
      "i = 3, y = 135, x = 256, y:y + 90 = 225, x:x + 128 = 384\n",
      "(45, 64)\n",
      "i = 4, y = 135, x = 256, y:y + 90 = 225, x:x + 128 = 384\n"
     ]
    },
    {
     "data": {
      "image/png": "[encoded data removed]",
      "text/plain": [
       "<Figure size 432x288 with 1 Axes>"
      ]
     },
     "metadata": {
      "needs_background": "light"
     },
     "output_type": "display_data"
    },
    {
     "name": "stdout",
     "output_type": "stream",
     "text": [
      "(45, 64)\n",
      "i = 0, y = 135, x = 320, y:y + 90 = 225, x:x + 128 = 448\n",
      "(45, 64)\n",
      "i = 1, y = 135, x = 320, y:y + 90 = 225, x:x + 128 = 448\n",
      "(45, 64)\n",
      "i = 2, y = 135, x = 320, y:y + 90 = 225, x:x + 128 = 448\n",
      "(45, 64)\n",
      "i = 3, y = 135, x = 320, y:y + 90 = 225, x:x + 128 = 448\n",
      "(45, 64)\n",
      "i = 4, y = 135, x = 320, y:y + 90 = 225, x:x + 128 = 448\n"
     ]
    },
    {
     "data": {
      "image/png": "[encoded data removed]",
      "text/plain": [
       "<Figure size 432x288 with 1 Axes>"
      ]
     },
     "metadata": {
      "needs_background": "light"
     },
     "output_type": "display_data"
    },
    {
     "name": "stdout",
     "output_type": "stream",
     "text": [
      "(45, 64)\n",
      "i = 0, y = 135, x = 384, y:y + 90 = 225, x:x + 128 = 512\n",
      "(45, 64)\n",
      "i = 1, y = 135, x = 384, y:y + 90 = 225, x:x + 128 = 512\n",
      "(45, 64)\n",
      "i = 2, y = 135, x = 384, y:y + 90 = 225, x:x + 128 = 512\n",
      "(45, 64)\n",
      "i = 3, y = 135, x = 384, y:y + 90 = 225, x:x + 128 = 512\n",
      "(45, 64)\n",
      "i = 4, y = 135, x = 384, y:y + 90 = 225, x:x + 128 = 512\n"
     ]
    },
    {
     "data": {
      "image/png": "[encoded data removed]",
      "text/plain": [
       "<Figure size 432x288 with 1 Axes>"
      ]
     },
     "metadata": {
      "needs_background": "light"
     },
     "output_type": "display_data"
    },
    {
     "name": "stdout",
     "output_type": "stream",
     "text": [
      "(45, 64)\n",
      "i = 0, y = 135, x = 448, y:y + 90 = 225, x:x + 128 = 576\n",
      "(45, 64)\n",
      "i = 1, y = 135, x = 448, y:y + 90 = 225, x:x + 128 = 576\n",
      "(45, 64)\n",
      "i = 2, y = 135, x = 448, y:y + 90 = 225, x:x + 128 = 576\n",
      "(45, 64)\n",
      "i = 3, y = 135, x = 448, y:y + 90 = 225, x:x + 128 = 576\n",
      "(45, 64)\n",
      "i = 4, y = 135, x = 448, y:y + 90 = 225, x:x + 128 = 576\n"
     ]
    },
    {
     "data": {
      "image/png": "[encoded data removed]",
      "text/plain": [
       "<Figure size 432x288 with 1 Axes>"
      ]
     },
     "metadata": {
      "needs_background": "light"
     },
     "output_type": "display_data"
    },
    {
     "name": "stdout",
     "output_type": "stream",
     "text": [
      "(45, 64)\n",
      "i = 0, y = 180, x = 0, y:y + 90 = 270, x:x + 128 = 128\n",
      "(45, 64)\n",
      "i = 1, y = 180, x = 0, y:y + 90 = 270, x:x + 128 = 128\n",
      "(45, 64)\n",
      "i = 2, y = 180, x = 0, y:y + 90 = 270, x:x + 128 = 128\n",
      "(45, 64)\n",
      "i = 3, y = 180, x = 0, y:y + 90 = 270, x:x + 128 = 128\n",
      "(45, 64)\n",
      "i = 4, y = 180, x = 0, y:y + 90 = 270, x:x + 128 = 128\n"
     ]
    },
    {
     "data": {
      "image/png": "[encoded data removed]",
      "text/plain": [
       "<Figure size 432x288 with 1 Axes>"
      ]
     },
     "metadata": {
      "needs_background": "light"
     },
     "output_type": "display_data"
    },
    {
     "name": "stdout",
     "output_type": "stream",
     "text": [
      "(45, 64)\n",
      "i = 0, y = 180, x = 64, y:y + 90 = 270, x:x + 128 = 192\n",
      "(45, 64)\n",
      "i = 1, y = 180, x = 64, y:y + 90 = 270, x:x + 128 = 192\n",
      "(45, 64)\n",
      "i = 2, y = 180, x = 64, y:y + 90 = 270, x:x + 128 = 192\n",
      "(45, 64)\n",
      "i = 3, y = 180, x = 64, y:y + 90 = 270, x:x + 128 = 192\n",
      "(45, 64)\n",
      "i = 4, y = 180, x = 64, y:y + 90 = 270, x:x + 128 = 192\n"
     ]
    },
    {
     "data": {
      "image/png": "[encoded data removed]",
      "text/plain": [
       "<Figure size 432x288 with 1 Axes>"
      ]
     },
     "metadata": {
      "needs_background": "light"
     },
     "output_type": "display_data"
    },
    {
     "name": "stdout",
     "output_type": "stream",
     "text": [
      "(45, 64)\n",
      "i = 0, y = 180, x = 128, y:y + 90 = 270, x:x + 128 = 256\n",
      "(45, 64)\n",
      "i = 1, y = 180, x = 128, y:y + 90 = 270, x:x + 128 = 256\n",
      "(45, 64)\n",
      "i = 2, y = 180, x = 128, y:y + 90 = 270, x:x + 128 = 256\n",
      "(45, 64)\n",
      "i = 3, y = 180, x = 128, y:y + 90 = 270, x:x + 128 = 256\n",
      "(45, 64)\n",
      "i = 4, y = 180, x = 128, y:y + 90 = 270, x:x + 128 = 256\n"
     ]
    },
    {
     "data": {
      "image/png": "[encoded data removed]",
      "text/plain": [
       "<Figure size 432x288 with 1 Axes>"
      ]
     },
     "metadata": {
      "needs_background": "light"
     },
     "output_type": "display_data"
    },
    {
     "name": "stdout",
     "output_type": "stream",
     "text": [
      "(45, 64)\n",
      "i = 0, y = 180, x = 192, y:y + 90 = 270, x:x + 128 = 320\n",
      "(45, 64)\n",
      "i = 1, y = 180, x = 192, y:y + 90 = 270, x:x + 128 = 320\n",
      "(45, 64)\n",
      "i = 2, y = 180, x = 192, y:y + 90 = 270, x:x + 128 = 320\n",
      "(45, 64)\n",
      "i = 3, y = 180, x = 192, y:y + 90 = 270, x:x + 128 = 320\n",
      "(45, 64)\n",
      "i = 4, y = 180, x = 192, y:y + 90 = 270, x:x + 128 = 320\n"
     ]
    },
    {
     "data": {
      "image/png": "[encoded data removed]",
      "text/plain": [
       "<Figure size 432x288 with 1 Axes>"
      ]
     },
     "metadata": {
      "needs_background": "light"
     },
     "output_type": "display_data"
    },
    {
     "name": "stdout",
     "output_type": "stream",
     "text": [
      "(45, 64)\n",
      "i = 0, y = 180, x = 256, y:y + 90 = 270, x:x + 128 = 384\n",
      "(45, 64)\n",
      "i = 1, y = 180, x = 256, y:y + 90 = 270, x:x + 128 = 384\n",
      "(45, 64)\n",
      "i = 2, y = 180, x = 256, y:y + 90 = 270, x:x + 128 = 384\n",
      "(45, 64)\n",
      "i = 3, y = 180, x = 256, y:y + 90 = 270, x:x + 128 = 384\n",
      "(45, 64)\n",
      "i = 4, y = 180, x = 256, y:y + 90 = 270, x:x + 128 = 384\n"
     ]
    },
    {
     "data": {
      "image/png": "[encoded data removed]",
      "text/plain": [
       "<Figure size 432x288 with 1 Axes>"
      ]
     },
     "metadata": {
      "needs_background": "light"
     },
     "output_type": "display_data"
    },
    {
     "name": "stdout",
     "output_type": "stream",
     "text": [
      "(45, 64)\n",
      "i = 0, y = 180, x = 320, y:y + 90 = 270, x:x + 128 = 448\n",
      "(45, 64)\n",
      "i = 1, y = 180, x = 320, y:y + 90 = 270, x:x + 128 = 448\n",
      "(45, 64)\n",
      "i = 2, y = 180, x = 320, y:y + 90 = 270, x:x + 128 = 448\n",
      "(45, 64)\n",
      "i = 3, y = 180, x = 320, y:y + 90 = 270, x:x + 128 = 448\n",
      "(45, 64)\n",
      "i = 4, y = 180, x = 320, y:y + 90 = 270, x:x + 128 = 448\n"
     ]
    },
    {
     "data": {
      "image/png": "[encoded data removed]",
      "text/plain": [
       "<Figure size 432x288 with 1 Axes>"
      ]
     },
     "metadata": {
      "needs_background": "light"
     },
     "output_type": "display_data"
    },
    {
     "name": "stdout",
     "output_type": "stream",
     "text": [
      "(45, 64)\n",
      "i = 0, y = 180, x = 384, y:y + 90 = 270, x:x + 128 = 512\n",
      "(45, 64)\n",
      "i = 1, y = 180, x = 384, y:y + 90 = 270, x:x + 128 = 512\n",
      "(45, 64)\n",
      "i = 2, y = 180, x = 384, y:y + 90 = 270, x:x + 128 = 512\n",
      "(45, 64)\n",
      "i = 3, y = 180, x = 384, y:y + 90 = 270, x:x + 128 = 512\n",
      "(45, 64)\n",
      "i = 4, y = 180, x = 384, y:y + 90 = 270, x:x + 128 = 512\n"
     ]
    },
    {
     "data": {
      "image/png": "[encoded data removed]",
      "text/plain": [
       "<Figure size 432x288 with 1 Axes>"
      ]
     },
     "metadata": {
      "needs_background": "light"
     },
     "output_type": "display_data"
    },
    {
     "name": "stdout",
     "output_type": "stream",
     "text": [
      "(45, 64)\n",
      "i = 0, y = 180, x = 448, y:y + 90 = 270, x:x + 128 = 576\n",
      "(45, 64)\n",
      "i = 1, y = 180, x = 448, y:y + 90 = 270, x:x + 128 = 576\n",
      "(45, 64)\n",
      "i = 2, y = 180, x = 448, y:y + 90 = 270, x:x + 128 = 576\n",
      "(45, 64)\n",
      "i = 3, y = 180, x = 448, y:y + 90 = 270, x:x + 128 = 576\n",
      "(45, 64)\n",
      "i = 4, y = 180, x = 448, y:y + 90 = 270, x:x + 128 = 576\n"
     ]
    },
    {
     "data": {
      "image/png": "[encoded data removed]",
      "text/plain": [
       "<Figure size 432x288 with 1 Axes>"
      ]
     },
     "metadata": {
      "needs_background": "light"
     },
     "output_type": "display_data"
    },
    {
     "name": "stdout",
     "output_type": "stream",
     "text": [
      "(45, 64)\n",
      "i = 0, y = 225, x = 0, y:y + 90 = 315, x:x + 128 = 128\n",
      "(45, 64)\n",
      "i = 1, y = 225, x = 0, y:y + 90 = 315, x:x + 128 = 128\n",
      "(45, 64)\n",
      "i = 2, y = 225, x = 0, y:y + 90 = 315, x:x + 128 = 128\n",
      "(45, 64)\n",
      "i = 3, y = 225, x = 0, y:y + 90 = 315, x:x + 128 = 128\n",
      "(45, 64)\n",
      "i = 4, y = 225, x = 0, y:y + 90 = 315, x:x + 128 = 128\n"
     ]
    },
    {
     "data": {
      "image/png": "[encoded data removed]",
      "text/plain": [
       "<Figure size 432x288 with 1 Axes>"
      ]
     },
     "metadata": {
      "needs_background": "light"
     },
     "output_type": "display_data"
    },
    {
     "name": "stdout",
     "output_type": "stream",
     "text": [
      "(45, 64)\n",
      "i = 0, y = 225, x = 64, y:y + 90 = 315, x:x + 128 = 192\n",
      "(45, 64)\n",
      "i = 1, y = 225, x = 64, y:y + 90 = 315, x:x + 128 = 192\n",
      "(45, 64)\n",
      "i = 2, y = 225, x = 64, y:y + 90 = 315, x:x + 128 = 192\n",
      "(45, 64)\n",
      "i = 3, y = 225, x = 64, y:y + 90 = 315, x:x + 128 = 192\n",
      "(45, 64)\n",
      "i = 4, y = 225, x = 64, y:y + 90 = 315, x:x + 128 = 192\n"
     ]
    },
    {
     "data": {
      "image/png": "[encoded data removed]",
      "text/plain": [
       "<Figure size 432x288 with 1 Axes>"
      ]
     },
     "metadata": {
      "needs_background": "light"
     },
     "output_type": "display_data"
    },
    {
     "name": "stdout",
     "output_type": "stream",
     "text": [
      "(45, 64)\n",
      "i = 0, y = 225, x = 128, y:y + 90 = 315, x:x + 128 = 256\n",
      "(45, 64)\n",
      "i = 1, y = 225, x = 128, y:y + 90 = 315, x:x + 128 = 256\n",
      "(45, 64)\n",
      "i = 2, y = 225, x = 128, y:y + 90 = 315, x:x + 128 = 256\n",
      "(45, 64)\n",
      "i = 3, y = 225, x = 128, y:y + 90 = 315, x:x + 128 = 256\n",
      "(45, 64)\n",
      "i = 4, y = 225, x = 128, y:y + 90 = 315, x:x + 128 = 256\n"
     ]
    },
    {
     "data": {
      "image/png": "[encoded data removed]",
      "text/plain": [
       "<Figure size 432x288 with 1 Axes>"
      ]
     },
     "metadata": {
      "needs_background": "light"
     },
     "output_type": "display_data"
    },
    {
     "name": "stdout",
     "output_type": "stream",
     "text": [
      "(45, 64)\n",
      "i = 0, y = 225, x = 192, y:y + 90 = 315, x:x + 128 = 320\n",
      "(45, 64)\n",
      "i = 1, y = 225, x = 192, y:y + 90 = 315, x:x + 128 = 320\n",
      "(45, 64)\n",
      "i = 2, y = 225, x = 192, y:y + 90 = 315, x:x + 128 = 320\n",
      "(45, 64)\n",
      "i = 3, y = 225, x = 192, y:y + 90 = 315, x:x + 128 = 320\n",
      "(45, 64)\n",
      "i = 4, y = 225, x = 192, y:y + 90 = 315, x:x + 128 = 320\n"
     ]
    },
    {
     "data": {
      "image/png": "[encoded data removed]",
      "text/plain": [
       "<Figure size 432x288 with 1 Axes>"
      ]
     },
     "metadata": {
      "needs_background": "light"
     },
     "output_type": "display_data"
    },
    {
     "name": "stdout",
     "output_type": "stream",
     "text": [
      "(45, 64)\n",
      "i = 0, y = 225, x = 256, y:y + 90 = 315, x:x + 128 = 384\n",
      "(45, 64)\n",
      "i = 1, y = 225, x = 256, y:y + 90 = 315, x:x + 128 = 384\n",
      "(45, 64)\n",
      "i = 2, y = 225, x = 256, y:y + 90 = 315, x:x + 128 = 384\n",
      "(45, 64)\n",
      "i = 3, y = 225, x = 256, y:y + 90 = 315, x:x + 128 = 384\n",
      "(45, 64)\n",
      "i = 4, y = 225, x = 256, y:y + 90 = 315, x:x + 128 = 384\n"
     ]
    },
    {
     "data": {
      "image/png": "[encoded data removed]",
      "text/plain": [
       "<Figure size 432x288 with 1 Axes>"
      ]
     },
     "metadata": {
      "needs_background": "light"
     },
     "output_type": "display_data"
    },
    {
     "name": "stdout",
     "output_type": "stream",
     "text": [
      "(45, 64)\n",
      "i = 0, y = 225, x = 320, y:y + 90 = 315, x:x + 128 = 448\n",
      "(45, 64)\n",
      "i = 1, y = 225, x = 320, y:y + 90 = 315, x:x + 128 = 448\n",
      "(45, 64)\n",
      "i = 2, y = 225, x = 320, y:y + 90 = 315, x:x + 128 = 448\n",
      "(45, 64)\n",
      "i = 3, y = 225, x = 320, y:y + 90 = 315, x:x + 128 = 448\n",
      "(45, 64)\n",
      "i = 4, y = 225, x = 320, y:y + 90 = 315, x:x + 128 = 448\n"
     ]
    },
    {
     "data": {
      "image/png": "[encoded data removed]",
      "text/plain": [
       "<Figure size 432x288 with 1 Axes>"
      ]
     },
     "metadata": {
      "needs_background": "light"
     },
     "output_type": "display_data"
    },
    {
     "name": "stdout",
     "output_type": "stream",
     "text": [
      "(45, 64)\n",
      "i = 0, y = 225, x = 384, y:y + 90 = 315, x:x + 128 = 512\n",
      "(45, 64)\n",
      "i = 1, y = 225, x = 384, y:y + 90 = 315, x:x + 128 = 512\n",
      "(45, 64)\n",
      "i = 2, y = 225, x = 384, y:y + 90 = 315, x:x + 128 = 512\n",
      "(45, 64)\n",
      "i = 3, y = 225, x = 384, y:y + 90 = 315, x:x + 128 = 512\n",
      "(45, 64)\n",
      "i = 4, y = 225, x = 384, y:y + 90 = 315, x:x + 128 = 512\n"
     ]
    },
    {
     "data": {
      "image/png": "[encoded data removed]",
      "text/plain": [
       "<Figure size 432x288 with 1 Axes>"
      ]
     },
     "metadata": {
      "needs_background": "light"
     },
     "output_type": "display_data"
    },
    {
     "name": "stdout",
     "output_type": "stream",
     "text": [
      "(45, 64)\n",
      "i = 0, y = 225, x = 448, y:y + 90 = 315, x:x + 128 = 576\n",
      "(45, 64)\n",
      "i = 1, y = 225, x = 448, y:y + 90 = 315, x:x + 128 = 576\n",
      "(45, 64)\n",
      "i = 2, y = 225, x = 448, y:y + 90 = 315, x:x + 128 = 576\n",
      "(45, 64)\n",
      "i = 3, y = 225, x = 448, y:y + 90 = 315, x:x + 128 = 576\n",
      "(45, 64)\n",
      "i = 4, y = 225, x = 448, y:y + 90 = 315, x:x + 128 = 576\n"
     ]
    },
    {
     "data": {
      "image/png": "[encoded data removed]",
      "text/plain": [
       "<Figure size 432x288 with 1 Axes>"
      ]
     },
     "metadata": {
      "needs_background": "light"
     },
     "output_type": "display_data"
    },
    {
     "name": "stdout",
     "output_type": "stream",
     "text": [
      "(45, 64)\n",
      "i = 0, y = 270, x = 0, y:y + 90 = 360, x:x + 128 = 128\n",
      "(45, 64)\n",
      "i = 1, y = 270, x = 0, y:y + 90 = 360, x:x + 128 = 128\n",
      "(45, 64)\n",
      "i = 2, y = 270, x = 0, y:y + 90 = 360, x:x + 128 = 128\n",
      "(45, 64)\n",
      "i = 3, y = 270, x = 0, y:y + 90 = 360, x:x + 128 = 128\n",
      "(45, 64)\n",
      "i = 4, y = 270, x = 0, y:y + 90 = 360, x:x + 128 = 128\n"
     ]
    },
    {
     "data": {
      "image/png": "[encoded data removed]",
      "text/plain": [
       "<Figure size 432x288 with 1 Axes>"
      ]
     },
     "metadata": {
      "needs_background": "light"
     },
     "output_type": "display_data"
    },
    {
     "name": "stdout",
     "output_type": "stream",
     "text": [
      "(45, 64)\n",
      "i = 0, y = 270, x = 64, y:y + 90 = 360, x:x + 128 = 192\n",
      "(45, 64)\n",
      "i = 1, y = 270, x = 64, y:y + 90 = 360, x:x + 128 = 192\n",
      "(45, 64)\n",
      "i = 2, y = 270, x = 64, y:y + 90 = 360, x:x + 128 = 192\n",
      "(45, 64)\n",
      "i = 3, y = 270, x = 64, y:y + 90 = 360, x:x + 128 = 192\n",
      "(45, 64)\n",
      "i = 4, y = 270, x = 64, y:y + 90 = 360, x:x + 128 = 192\n"
     ]
    },
    {
     "data": {
      "image/png": "[encoded data removed]",
      "text/plain": [
       "<Figure size 432x288 with 1 Axes>"
      ]
     },
     "metadata": {
      "needs_background": "light"
     },
     "output_type": "display_data"
    },
    {
     "name": "stdout",
     "output_type": "stream",
     "text": [
      "(45, 64)\n",
      "i = 0, y = 270, x = 128, y:y + 90 = 360, x:x + 128 = 256\n",
      "(45, 64)\n",
      "i = 1, y = 270, x = 128, y:y + 90 = 360, x:x + 128 = 256\n",
      "(45, 64)\n",
      "i = 2, y = 270, x = 128, y:y + 90 = 360, x:x + 128 = 256\n",
      "(45, 64)\n",
      "i = 3, y = 270, x = 128, y:y + 90 = 360, x:x + 128 = 256\n",
      "(45, 64)\n",
      "i = 4, y = 270, x = 128, y:y + 90 = 360, x:x + 128 = 256\n"
     ]
    },
    {
     "data": {
      "image/png": "[encoded data removed]",
      "text/plain": [
       "<Figure size 432x288 with 1 Axes>"
      ]
     },
     "metadata": {
      "needs_background": "light"
     },
     "output_type": "display_data"
    },
    {
     "name": "stdout",
     "output_type": "stream",
     "text": [
      "(45, 64)\n",
      "i = 0, y = 270, x = 192, y:y + 90 = 360, x:x + 128 = 320\n",
      "(45, 64)\n",
      "i = 1, y = 270, x = 192, y:y + 90 = 360, x:x + 128 = 320\n",
      "(45, 64)\n",
      "i = 2, y = 270, x = 192, y:y + 90 = 360, x:x + 128 = 320\n",
      "(45, 64)\n",
      "i = 3, y = 270, x = 192, y:y + 90 = 360, x:x + 128 = 320\n",
      "(45, 64)\n",
      "i = 4, y = 270, x = 192, y:y + 90 = 360, x:x + 128 = 320\n"
     ]
    },
    {
     "data": {
      "image/png": "[encoded data removed]",
      "text/plain": [
       "<Figure size 432x288 with 1 Axes>"
      ]
     },
     "metadata": {
      "needs_background": "light"
     },
     "output_type": "display_data"
    },
    {
     "name": "stdout",
     "output_type": "stream",
     "text": [
      "(45, 64)\n",
      "i = 0, y = 270, x = 256, y:y + 90 = 360, x:x + 128 = 384\n",
      "(45, 64)\n",
      "i = 1, y = 270, x = 256, y:y + 90 = 360, x:x + 128 = 384\n",
      "(45, 64)\n",
      "i = 2, y = 270, x = 256, y:y + 90 = 360, x:x + 128 = 384\n",
      "(45, 64)\n",
      "i = 3, y = 270, x = 256, y:y + 90 = 360, x:x + 128 = 384\n",
      "(45, 64)\n",
      "i = 4, y = 270, x = 256, y:y + 90 = 360, x:x + 128 = 384\n"
     ]
    },
    {
     "data": {
      "image/png": "[encoded data removed]",
      "text/plain": [
       "<Figure size 432x288 with 1 Axes>"
      ]
     },
     "metadata": {
      "needs_background": "light"
     },
     "output_type": "display_data"
    },
    {
     "name": "stdout",
     "output_type": "stream",
     "text": [
      "(45, 64)\n",
      "i = 0, y = 270, x = 320, y:y + 90 = 360, x:x + 128 = 448\n",
      "(45, 64)\n",
      "i = 1, y = 270, x = 320, y:y + 90 = 360, x:x + 128 = 448\n",
      "(45, 64)\n",
      "i = 2, y = 270, x = 320, y:y + 90 = 360, x:x + 128 = 448\n",
      "(45, 64)\n",
      "i = 3, y = 270, x = 320, y:y + 90 = 360, x:x + 128 = 448\n",
      "(45, 64)\n",
      "i = 4, y = 270, x = 320, y:y + 90 = 360, x:x + 128 = 448\n"
     ]
    },
    {
     "data": {
      "image/png": "[encoded data removed]",
      "text/plain": [
       "<Figure size 432x288 with 1 Axes>"
      ]
     },
     "metadata": {
      "needs_background": "light"
     },
     "output_type": "display_data"
    },
    {
     "name": "stdout",
     "output_type": "stream",
     "text": [
      "(45, 64)\n",
      "i = 0, y = 270, x = 384, y:y + 90 = 360, x:x + 128 = 512\n",
      "(45, 64)\n",
      "i = 1, y = 270, x = 384, y:y + 90 = 360, x:x + 128 = 512\n",
      "(45, 64)\n",
      "i = 2, y = 270, x = 384, y:y + 90 = 360, x:x + 128 = 512\n",
      "(45, 64)\n",
      "i = 3, y = 270, x = 384, y:y + 90 = 360, x:x + 128 = 512\n",
      "(45, 64)\n",
      "i = 4, y = 270, x = 384, y:y + 90 = 360, x:x + 128 = 512\n"
     ]
    },
    {
     "data": {
      "image/png": "[encoded data removed]",
      "text/plain": [
       "<Figure size 432x288 with 1 Axes>"
      ]
     },
     "metadata": {
      "needs_background": "light"
     },
     "output_type": "display_data"
    },
    {
     "name": "stdout",
     "output_type": "stream",
     "text": [
      "(45, 64)\n",
      "i = 0, y = 270, x = 448, y:y + 90 = 360, x:x + 128 = 576\n",
      "(45, 64)\n",
      "i = 1, y = 270, x = 448, y:y + 90 = 360, x:x + 128 = 576\n",
      "(45, 64)\n",
      "i = 2, y = 270, x = 448, y:y + 90 = 360, x:x + 128 = 576\n",
      "(45, 64)\n",
      "i = 3, y = 270, x = 448, y:y + 90 = 360, x:x + 128 = 576\n",
      "(45, 64)\n",
      "i = 4, y = 270, x = 448, y:y + 90 = 360, x:x + 128 = 576\n"
     ]
    },
    {
     "data": {
      "image/png": "[encoded data removed]",
      "text/plain": [
       "<Figure size 432x288 with 1 Axes>"
      ]
     },
     "metadata": {
      "needs_background": "light"
     },
     "output_type": "display_data"
    },
    {
     "name": "stdout",
     "output_type": "stream",
     "text": [
      "(45, 64)\n",
      "i = 0, y = 315, x = 0, y:y + 90 = 405, x:x + 128 = 128\n",
      "(45, 64)\n",
      "i = 1, y = 315, x = 0, y:y + 90 = 405, x:x + 128 = 128\n",
      "(45, 64)\n",
      "i = 2, y = 315, x = 0, y:y + 90 = 405, x:x + 128 = 128\n",
      "(45, 64)\n",
      "i = 3, y = 315, x = 0, y:y + 90 = 405, x:x + 128 = 128\n",
      "(45, 64)\n",
      "i = 4, y = 315, x = 0, y:y + 90 = 405, x:x + 128 = 128\n"
     ]
    },
    {
     "data": {
      "image/png": "[encoded data removed]",
      "text/plain": [
       "<Figure size 432x288 with 1 Axes>"
      ]
     },
     "metadata": {
      "needs_background": "light"
     },
     "output_type": "display_data"
    },
    {
     "name": "stdout",
     "output_type": "stream",
     "text": [
      "(45, 64)\n",
      "i = 0, y = 315, x = 64, y:y + 90 = 405, x:x + 128 = 192\n",
      "(45, 64)\n",
      "i = 1, y = 315, x = 64, y:y + 90 = 405, x:x + 128 = 192\n",
      "(45, 64)\n",
      "i = 2, y = 315, x = 64, y:y + 90 = 405, x:x + 128 = 192\n",
      "(45, 64)\n",
      "i = 3, y = 315, x = 64, y:y + 90 = 405, x:x + 128 = 192\n",
      "(45, 64)\n",
      "i = 4, y = 315, x = 64, y:y + 90 = 405, x:x + 128 = 192\n"
     ]
    },
    {
     "data": {
      "image/png": "[encoded data removed]",
      "text/plain": [
       "<Figure size 432x288 with 1 Axes>"
      ]
     },
     "metadata": {
      "needs_background": "light"
     },
     "output_type": "display_data"
    },
    {
     "name": "stdout",
     "output_type": "stream",
     "text": [
      "(45, 64)\n",
      "i = 0, y = 315, x = 128, y:y + 90 = 405, x:x + 128 = 256\n",
      "(45, 64)\n",
      "i = 1, y = 315, x = 128, y:y + 90 = 405, x:x + 128 = 256\n",
      "(45, 64)\n",
      "i = 2, y = 315, x = 128, y:y + 90 = 405, x:x + 128 = 256\n",
      "(45, 64)\n",
      "i = 3, y = 315, x = 128, y:y + 90 = 405, x:x + 128 = 256\n",
      "(45, 64)\n",
      "i = 4, y = 315, x = 128, y:y + 90 = 405, x:x + 128 = 256\n"
     ]
    },
    {
     "data": {
      "image/png": "[encoded data removed]",
      "text/plain": [
       "<Figure size 432x288 with 1 Axes>"
      ]
     },
     "metadata": {
      "needs_background": "light"
     },
     "output_type": "display_data"
    },
    {
     "name": "stdout",
     "output_type": "stream",
     "text": [
      "(45, 64)\n",
      "i = 0, y = 315, x = 192, y:y + 90 = 405, x:x + 128 = 320\n",
      "(45, 64)\n",
      "i = 1, y = 315, x = 192, y:y + 90 = 405, x:x + 128 = 320\n",
      "(45, 64)\n",
      "i = 2, y = 315, x = 192, y:y + 90 = 405, x:x + 128 = 320\n",
      "(45, 64)\n",
      "i = 3, y = 315, x = 192, y:y + 90 = 405, x:x + 128 = 320\n",
      "(45, 64)\n",
      "i = 4, y = 315, x = 192, y:y + 90 = 405, x:x + 128 = 320\n"
     ]
    },
    {
     "data": {
      "image/png": "[encoded data removed]",
      "text/plain": [
       "<Figure size 432x288 with 1 Axes>"
      ]
     },
     "metadata": {
      "needs_background": "light"
     },
     "output_type": "display_data"
    },
    {
     "name": "stdout",
     "output_type": "stream",
     "text": [
      "(45, 64)\n",
      "i = 0, y = 315, x = 256, y:y + 90 = 405, x:x + 128 = 384\n",
      "(45, 64)\n",
      "i = 1, y = 315, x = 256, y:y + 90 = 405, x:x + 128 = 384\n",
      "(45, 64)\n",
      "i = 2, y = 315, x = 256, y:y + 90 = 405, x:x + 128 = 384\n",
      "(45, 64)\n",
      "i = 3, y = 315, x = 256, y:y + 90 = 405, x:x + 128 = 384\n",
      "(45, 64)\n",
      "i = 4, y = 315, x = 256, y:y + 90 = 405, x:x + 128 = 384\n"
     ]
    },
    {
     "data": {
      "image/png": "[encoded data removed]",
      "text/plain": [
       "<Figure size 432x288 with 1 Axes>"
      ]
     },
     "metadata": {
      "needs_background": "light"
     },
     "output_type": "display_data"
    },
    {
     "name": "stdout",
     "output_type": "stream",
     "text": [
      "(45, 64)\n",
      "i = 0, y = 315, x = 320, y:y + 90 = 405, x:x + 128 = 448\n",
      "(45, 64)\n",
      "i = 1, y = 315, x = 320, y:y + 90 = 405, x:x + 128 = 448\n",
      "(45, 64)\n",
      "i = 2, y = 315, x = 320, y:y + 90 = 405, x:x + 128 = 448\n",
      "(45, 64)\n",
      "i = 3, y = 315, x = 320, y:y + 90 = 405, x:x + 128 = 448\n",
      "(45, 64)\n",
      "i = 4, y = 315, x = 320, y:y + 90 = 405, x:x + 128 = 448\n"
     ]
    },
    {
     "data": {
      "image/png": "[encoded data removed]",
      "text/plain": [
       "<Figure size 432x288 with 1 Axes>"
      ]
     },
     "metadata": {
      "needs_background": "light"
     },
     "output_type": "display_data"
    },
    {
     "name": "stdout",
     "output_type": "stream",
     "text": [
      "(45, 64)\n",
      "i = 0, y = 315, x = 384, y:y + 90 = 405, x:x + 128 = 512\n",
      "(45, 64)\n",
      "i = 1, y = 315, x = 384, y:y + 90 = 405, x:x + 128 = 512\n",
      "(45, 64)\n",
      "i = 2, y = 315, x = 384, y:y + 90 = 405, x:x + 128 = 512\n",
      "(45, 64)\n",
      "i = 3, y = 315, x = 384, y:y + 90 = 405, x:x + 128 = 512\n",
      "(45, 64)\n",
      "i = 4, y = 315, x = 384, y:y + 90 = 405, x:x + 128 = 512\n"
     ]
    },
    {
     "data": {
      "image/png": "[encoded data removed]",
      "text/plain": [
       "<Figure size 432x288 with 1 Axes>"
      ]
     },
     "metadata": {
      "needs_background": "light"
     },
     "output_type": "display_data"
    },
    {
     "name": "stdout",
     "output_type": "stream",
     "text": [
      "(45, 64)\n",
      "i = 0, y = 315, x = 448, y:y + 90 = 405, x:x + 128 = 576\n",
      "(45, 64)\n",
      "i = 1, y = 315, x = 448, y:y + 90 = 405, x:x + 128 = 576\n",
      "(45, 64)\n",
      "i = 2, y = 315, x = 448, y:y + 90 = 405, x:x + 128 = 576\n",
      "(45, 64)\n",
      "i = 3, y = 315, x = 448, y:y + 90 = 405, x:x + 128 = 576\n",
      "(45, 64)\n",
      "i = 4, y = 315, x = 448, y:y + 90 = 405, x:x + 128 = 576\n"
     ]
    },
    {
     "data": {
      "image/png": "[encoded data removed]",
      "text/plain": [
       "<Figure size 432x288 with 1 Axes>"
      ]
     },
     "metadata": {
      "needs_background": "light"
     },
     "output_type": "display_data"
    },
    {
     "name": "stdout",
     "output_type": "stream",
     "text": [
      "(45, 64)\n"
     ]
    }
   ],
   "source": [
    "train_img = []\n",
    "test_img = []\n",
    "train_img_1 = []\n",
    "train_img_2 = []\n",
    "train_img_3 = []\n",
    "train_img_4 = []\n",
    "train_img_5 = []\n",
    "train_img_6 = []\n",
    "train_img_7 = []\n",
    "train_img_8 = []\n",
    "train_img_9 = []\n",
    "\n",
    "flag = True\n",
    "for y in range(0, np.shape(lst_of_img[0])[0], 45):\n",
    "    for x in range(0, np.shape(lst_of_img[0])[1], 64):\n",
    "        # yield the current window\n",
    "        for i in range (len(lst_of_img)):\n",
    "            cropped_img = lst_of_img[i][y:y + 45, x:x + 64]\n",
    "            if x == 128 and y == 0:\n",
    "                train_img.append(cropped_img)\n",
    "            elif x == 128 and y == 45 :\n",
    "                train_img_1.append(cropped_img)\n",
    "            elif x == 192 and y == 90 :\n",
    "                train_img_2.append(cropped_img)\n",
    "            elif x == 448 and y == 0 :\n",
    "                train_img_3.append(cropped_img)\n",
    "            elif x == 192 and y == 180 :\n",
    "                train_img_4.append(cropped_img)\n",
    "            elif x == 256 and y == 180 :\n",
    "                train_img_5.append(cropped_img)\n",
    "            elif x == 256 and y == 135 :\n",
    "                train_img_6.append(cropped_img)\n",
    "            elif x == 448 and y == 90 :\n",
    "                train_img_7.append(cropped_img)\n",
    "            elif x == 192 and y == 45 :\n",
    "                train_img_8.append(cropped_img)\n",
    "            elif x == 64 and y == 45 :\n",
    "                train_img_9.append(cropped_img)\n",
    "            else:\n",
    "                test_img.append(cropped_img)\n",
    "           \n",
    "                \n",
    "                \n",
    "            print(f\"i = {i}, y = {y}, x = {x}, y:y + 90 = {y + 90}, x:x + 128 = {x + 128}\")\n",
    "            if i ==4 :\n",
    "                plt.imshow(cropped_img), plt.show()\n",
    "            print(np.shape(cropped_img))\n",
    "\n",
    "            if np.shape(cropped_img) != (90,128):\n",
    "                continue\n"
   ]
  },
  {
   "cell_type": "code",
   "execution_count": 7,
   "id": "e79464a9",
   "metadata": {},
   "outputs": [
    {
     "name": "stdout",
     "output_type": "stream",
     "text": [
      "(5, 45, 64)\n",
      "(5, 45, 64)\n",
      "(5, 45, 64)\n",
      "(5, 45, 64)\n",
      "(5, 45, 64)\n",
      "(5, 45, 64)\n",
      "(270, 45, 64)\n"
     ]
    }
   ],
   "source": [
    "print(np.shape(train_img))\n",
    "print(np.shape(train_img_1))\n",
    "print(np.shape(train_img_2))\n",
    "print(np.shape(train_img_3))\n",
    "print(np.shape(train_img_4))\n",
    "print(np.shape(train_img_9))\n",
    "\n",
    "print(np.shape(test_img))"
   ]
  },
  {
   "cell_type": "code",
   "execution_count": 8,
   "id": "d1bc681d",
   "metadata": {},
   "outputs": [
    {
     "name": "stderr",
     "output_type": "stream",
     "text": [
      "C:\\Users\\ionut.girla\\Anaconda3\\envs\\articol\\lib\\site-packages\\keras\\applications\\efficientnet_v2.py:906: UserWarning: This model usually expects 1 or 3 input channels. However, it was passed an input_shape with 4 input channels.\n",
      "  weights=weights)\n"
     ]
    }
   ],
   "source": [
    "prev_model = tf.keras.applications.EfficientNetV2B1(\n",
    "    weights=None,\n",
    "    input_tensor=None,\n",
    "    input_shape=(45,64,4),\n",
    "    pooling=None,\n",
    "    include_preprocessing=True,\n",
    ")\n",
    "\n",
    "# prev_model = tf.keras.applications.VGG16(\n",
    "#     include_top=False,\n",
    "#     weights=None,\n",
    "#     input_tensor=None,\n",
    "#     input_shape=(90,128,4),\n",
    "#     pooling=None,\n",
    "#     classes=1000,\n",
    "#     classifier_activation=\"softmax\",\n",
    "# )\n",
    "\n",
    "# prev_model = tf.keras.applications.MobileNet(\n",
    "#     alpha=1.0,\n",
    "#     depth_multiplier=1,\n",
    "#     dropout=0.001,\n",
    "#     include_top=False,\n",
    "#     weights=None,\n",
    "#     input_tensor=None,\n",
    "#     input_shape=(45,64,4),\n",
    "#     pooling=None\n",
    "# )\n",
    "\n",
    "model = Sequential()\n",
    "model.add(prev_model)\n",
    "#prev_model.summary()\n",
    "model.add(Reshape((4,250,)))\n",
    "#model.add(Reshape((1,1000,)))\n",
    "#model.add(Flatten)\n",
    "model.add(LSTM(256, activation='tanh',input_dim=4, return_sequences=True))\n",
    "model.add(Dropout(0.5))\n",
    "model.add(LSTM(128, activation='tanh', return_sequences=True))\n",
    "model.add(Dropout(0.5))\n",
    "model.add(tf.keras.layers.Flatten()) # tf.keras.layers.Flatten() \n",
    "model.add(Dense(5760, activation='sigmoid'))\n",
    "model.add(Dropout(0.5))\n",
    "model.add(Dense(64*45, activation='sigmoid'))\n"
   ]
  },
  {
   "cell_type": "code",
   "execution_count": 9,
   "id": "fee03f6a",
   "metadata": {},
   "outputs": [
    {
     "name": "stdout",
     "output_type": "stream",
     "text": [
      "Model: \"sequential\"\n",
      "_________________________________________________________________\n",
      " Layer (type)                Output Shape              Param #   \n",
      "=================================================================\n",
      " efficientnetv2-b1 (Function  (None, 1000)             8212412   \n",
      " al)                                                             \n",
      "                                                                 \n",
      " reshape (Reshape)           (None, 4, 250)            0         \n",
      "                                                                 \n",
      " lstm (LSTM)                 (None, 4, 256)            519168    \n",
      "                                                                 \n",
      " dropout (Dropout)           (None, 4, 256)            0         \n",
      "                                                                 \n",
      " lstm_1 (LSTM)               (None, 4, 128)            197120    \n",
      "                                                                 \n",
      " dropout_1 (Dropout)         (None, 4, 128)            0         \n",
      "                                                                 \n",
      " flatten (Flatten)           (None, 512)               0         \n",
      "                                                                 \n",
      " dense (Dense)               (None, 5760)              2954880   \n",
      "                                                                 \n",
      " dropout_2 (Dropout)         (None, 5760)              0         \n",
      "                                                                 \n",
      " dense_1 (Dense)             (None, 2880)              16591680  \n",
      "                                                                 \n",
      "=================================================================\n",
      "Total params: 28,475,260\n",
      "Trainable params: 28,404,188\n",
      "Non-trainable params: 71,072\n",
      "_________________________________________________________________\n"
     ]
    }
   ],
   "source": [
    "#model.build((90,128,4)) # `input_shape` is the shape of the input data\n",
    "                         # e.g. input_shape = (None, 32, 32, 3)\n",
    "model.summary()"
   ]
  },
  {
   "cell_type": "code",
   "execution_count": 10,
   "id": "f5f75605",
   "metadata": {},
   "outputs": [
    {
     "name": "stdout",
     "output_type": "stream",
     "text": [
      "(5, 45, 64)\n",
      "(270, 45, 64)\n"
     ]
    }
   ],
   "source": [
    "print(np.shape(train_img))\n",
    "print(np.shape(test_img))"
   ]
  },
  {
   "cell_type": "code",
   "execution_count": 11,
   "id": "ffb7fa66",
   "metadata": {},
   "outputs": [
    {
     "name": "stdout",
     "output_type": "stream",
     "text": [
      "Model: \"sequential\"\n",
      "_________________________________________________________________\n",
      " Layer (type)                Output Shape              Param #   \n",
      "=================================================================\n",
      " efficientnetv2-b1 (Function  (None, 1000)             8212412   \n",
      " al)                                                             \n",
      "                                                                 \n",
      " reshape (Reshape)           (None, 4, 250)            0         \n",
      "                                                                 \n",
      " lstm (LSTM)                 (None, 4, 256)            519168    \n",
      "                                                                 \n",
      " dropout (Dropout)           (None, 4, 256)            0         \n",
      "                                                                 \n",
      " lstm_1 (LSTM)               (None, 4, 128)            197120    \n",
      "                                                                 \n",
      " dropout_1 (Dropout)         (None, 4, 128)            0         \n",
      "                                                                 \n",
      " flatten (Flatten)           (None, 512)               0         \n",
      "                                                                 \n",
      " dense (Dense)               (None, 5760)              2954880   \n",
      "                                                                 \n",
      " dropout_2 (Dropout)         (None, 5760)              0         \n",
      "                                                                 \n",
      " dense_1 (Dense)             (None, 2880)              16591680  \n",
      "                                                                 \n",
      "=================================================================\n",
      "Total params: 28,475,260\n",
      "Trainable params: 28,404,188\n",
      "Non-trainable params: 71,072\n",
      "_________________________________________________________________\n"
     ]
    }
   ],
   "source": [
    "\n",
    "#model = define_cudnn_model()\n",
    "#model = define_clasical_model()\n",
    "\n",
    "model.summary()\n",
    "es_callback = keras.callbacks.EarlyStopping(monitor='loss', patience=1000)\n",
    "lrr= ReduceLROnPlateau(monitor='loss',   factor=.5,   patience=10,  min_lr=1e-20) \n",
    "\n",
    "#validation_data=(X, Y)\n",
    "\n",
    "#model.add(Dense(2))\n",
    "#model.compile(loss = keras.losses.categorical_crossentropy, optimizer= 'adam', metrics=['accuracy'])\n",
    "model.compile(optimizer=tf.keras.optimizers.Adam(learning_rate=0.5),\n",
    "              loss=tf.keras.losses.CategoricalCrossentropy(),\n",
    "              metrics=[tf.keras.metrics.Accuracy()])\n",
    "#Model Summary\n",
    "\n",
    "# model.compile(optimizer='adam',\n",
    "#               loss=tf.keras.losses.SparseCategoricalCrossentropy(from_logits=True),\n",
    "#               metrics=['accuracy'])"
   ]
  },
  {
   "cell_type": "code",
   "execution_count": 12,
   "id": "ffad2c38",
   "metadata": {
    "scrolled": true
   },
   "outputs": [
    {
     "name": "stdout",
     "output_type": "stream",
     "text": [
      "(5, 45, 64)\n",
      "(10, 45, 64, 4)\n",
      "(10, 2880)\n"
     ]
    }
   ],
   "source": [
    "print(np.shape(train_img))\n",
    "trainX = np.expand_dims(np.rollaxis(np.array(train_img[0:4]), 0, 3),axis=0)\n",
    "trainX_1 = np.expand_dims(np.rollaxis(np.array(train_img_1[0:4]), 0, 3),axis=0)\n",
    "trainX_2 = np.expand_dims(np.rollaxis(np.array(train_img_2[0:4]), 0, 3),axis=0)\n",
    "trainX_3 = np.expand_dims(np.rollaxis(np.array(train_img_3[0:4]), 0, 3),axis=0)\n",
    "trainX_4 = np.expand_dims(np.rollaxis(np.array(train_img_4[0:4]), 0, 3),axis=0)\n",
    "trainX_5 = np.expand_dims(np.rollaxis(np.array(train_img_5[0:4]), 0, 3),axis=0)\n",
    "trainX_6 = np.expand_dims(np.rollaxis(np.array(train_img_6[0:4]), 0, 3),axis=0)\n",
    "trainX_7 = np.expand_dims(np.rollaxis(np.array(train_img_7[0:4]), 0, 3),axis=0)\n",
    "trainX_8 = np.expand_dims(np.rollaxis(np.array(train_img_8[0:4]), 0, 3),axis=0)\n",
    "trainX_9 = np.expand_dims(np.rollaxis(np.array(train_img_9[0:4]), 0, 3),axis=0)\n",
    "\n",
    "trainY = np.expand_dims(np.reshape(train_img[4],(45*64)),axis=0)\n",
    "trainY_1 = np.expand_dims(np.reshape(train_img_1[4],(45*64)),axis=0)\n",
    "trainY_2 = np.expand_dims(np.reshape(train_img_2[4],(45*64)),axis=0)\n",
    "trainY_3 = np.expand_dims(np.reshape(train_img_3[4],(45*64)),axis=0)\n",
    "trainY_4 = np.expand_dims(np.reshape(train_img_4[4],(45*64)),axis=0)\n",
    "trainY_5 = np.expand_dims(np.reshape(train_img_5[4],(45*64)),axis=0)\n",
    "trainY_6 = np.expand_dims(np.reshape(train_img_6[4],(45*64)),axis=0)\n",
    "trainY_7 = np.expand_dims(np.reshape(train_img_7[4],(45*64)),axis=0)\n",
    "trainY_8 = np.expand_dims(np.reshape(train_img_8[4],(45*64)),axis=0)\n",
    "trainY_9 = np.expand_dims(np.reshape(train_img_9[4],(45*64)),axis=0)\n",
    "\n",
    "trainX = np.concatenate((trainX, trainX_1), axis=0)\n",
    "trainX = np.concatenate((trainX, trainX_2), axis=0)\n",
    "trainX = np.concatenate((trainX, trainX_3), axis=0)\n",
    "trainX = np.concatenate((trainX, trainX_4), axis=0)\n",
    "trainX = np.concatenate((trainX, trainX_5), axis=0)\n",
    "trainX = np.concatenate((trainX, trainX_6), axis=0)\n",
    "trainX = np.concatenate((trainX, trainX_7), axis=0)\n",
    "trainX = np.concatenate((trainX, trainX_8), axis=0)\n",
    "trainX = np.concatenate((trainX, trainX_9), axis=0)\n",
    "\n",
    "trainY = np.concatenate((trainY, trainY_1), axis=0)\n",
    "trainY = np.concatenate((trainY, trainY_2), axis=0)\n",
    "trainY = np.concatenate((trainY, trainY_3), axis=0)\n",
    "trainY = np.concatenate((trainY, trainY_4), axis=0)\n",
    "trainY = np.concatenate((trainY, trainY_5), axis=0)\n",
    "trainY = np.concatenate((trainY, trainY_6), axis=0)\n",
    "trainY = np.concatenate((trainY, trainY_7), axis=0)\n",
    "trainY = np.concatenate((trainY, trainY_8), axis=0)\n",
    "trainY = np.concatenate((trainY, trainY_9), axis=0)\n",
    "\n",
    "print(np.shape(trainX))\n",
    "print(np.shape(trainY))\n",
    "# for i in range(4):\n",
    "#     plt.imshow(trainX[0,:,:,i]), plt.show()\n",
    "#     plt.imshow(trainX[1,:,:,i]), plt.show()\n"
   ]
  },
  {
   "cell_type": "code",
   "execution_count": 14,
   "id": "4946e5ac",
   "metadata": {},
   "outputs": [],
   "source": [
    "trainY  = np.float32(trainY/255.0)"
   ]
  },
  {
   "cell_type": "code",
   "execution_count": 13,
   "id": "8e43e11a",
   "metadata": {},
   "outputs": [],
   "source": [
    "trainX  = np.float32(trainX/255.0)"
   ]
  },
  {
   "cell_type": "code",
   "execution_count": 15,
   "id": "9f861671",
   "metadata": {},
   "outputs": [
    {
     "data": {
      "text/plain": [
       "<matplotlib.image.AxesImage at 0x130136816c8>"
      ]
     },
     "execution_count": 15,
     "metadata": {},
     "output_type": "execute_result"
    },
    {
     "data": {
      "image/png": "[encoded data removed]",
      "text/plain": [
       "<Figure size 432x288 with 1 Axes>"
      ]
     },
     "metadata": {
      "needs_background": "light"
     },
     "output_type": "display_data"
    }
   ],
   "source": [
    "plt.imshow(np.reshape(trainY,(10,45,64))[4])"
   ]
  },
  {
   "cell_type": "code",
   "execution_count": null,
   "id": "4be32af7",
   "metadata": {
    "scrolled": true
   },
   "outputs": [
    {
     "name": "stdout",
     "output_type": "stream",
     "text": [
      "WARNING:tensorflow:From C:\\Users\\ionut.girla\\AppData\\Local\\Temp\\ipykernel_19752\\3195347719.py:1: experimental_run_functions_eagerly (from tensorflow.python.eager.def_function) is deprecated and will be removed in a future version.\n",
      "Instructions for updating:\n",
      "Use `tf.config.run_functions_eagerly` instead of the experimental version.\n",
      "Epoch 1/10000\n"
     ]
    },
    {
     "name": "stderr",
     "output_type": "stream",
     "text": [
      "C:\\Users\\ionut.girla\\Anaconda3\\envs\\articol\\lib\\site-packages\\tensorflow\\python\\data\\ops\\structured_function.py:265: UserWarning: Even though the `tf.config.experimental_run_functions_eagerly` option is set, this option does not apply to tf.data functions. To force eager execution of tf.data functions, please use `tf.data.experimental.enable_debug_mode()`.\n",
      "  \"Even though the `tf.config.experimental_run_functions_eagerly` \"\n"
     ]
    },
    {
     "name": "stdout",
     "output_type": "stream",
     "text": [
      "10/10 - 8s - loss: 5085543.0000 - accuracy: 0.4760 - lr: 0.5000 - 8s/epoch - 817ms/step\n",
      "Epoch 2/10000\n",
      "10/10 - 3s - loss: 9383366.0000 - accuracy: 0.5652 - lr: 0.5000 - 3s/epoch - 338ms/step\n",
      "Epoch 3/10000\n",
      "10/10 - 3s - loss: 15551216.0000 - accuracy: 0.5652 - lr: 0.5000 - 3s/epoch - 337ms/step\n",
      "Epoch 4/10000\n",
      "10/10 - 3s - loss: 18996904.0000 - accuracy: 0.5652 - lr: 0.5000 - 3s/epoch - 334ms/step\n",
      "Epoch 5/10000\n",
      "10/10 - 3s - loss: 23901820.0000 - accuracy: 0.5652 - lr: 0.5000 - 3s/epoch - 345ms/step\n",
      "Epoch 6/10000\n",
      "10/10 - 3s - loss: 27907078.0000 - accuracy: 0.5652 - lr: 0.5000 - 3s/epoch - 343ms/step\n",
      "Epoch 7/10000\n",
      "10/10 - 3s - loss: 32505494.0000 - accuracy: 0.5652 - lr: 0.5000 - 3s/epoch - 343ms/step\n",
      "Epoch 8/10000\n",
      "10/10 - 4s - loss: 35992932.0000 - accuracy: 0.5652 - lr: 0.5000 - 4s/epoch - 352ms/step\n",
      "Epoch 9/10000\n",
      "10/10 - 4s - loss: 40009436.0000 - accuracy: 0.5652 - lr: 0.5000 - 4s/epoch - 389ms/step\n",
      "Epoch 10/10000\n",
      "10/10 - 3s - loss: 43685172.0000 - accuracy: 0.5652 - lr: 0.5000 - 3s/epoch - 346ms/step\n",
      "Epoch 11/10000\n",
      "10/10 - 4s - loss: 47826936.0000 - accuracy: 0.5652 - lr: 0.5000 - 4s/epoch - 385ms/step\n",
      "Epoch 12/10000\n",
      "10/10 - 3s - loss: 51779148.0000 - accuracy: 0.5652 - lr: 0.2500 - 3s/epoch - 342ms/step\n",
      "Epoch 13/10000\n",
      "10/10 - 3s - loss: 53006664.0000 - accuracy: 0.5652 - lr: 0.2500 - 3s/epoch - 336ms/step\n",
      "Epoch 14/10000\n",
      "10/10 - 3s - loss: 55008160.0000 - accuracy: 0.5652 - lr: 0.2500 - 3s/epoch - 329ms/step\n",
      "Epoch 15/10000\n",
      "10/10 - 3s - loss: 57121236.0000 - accuracy: 0.5652 - lr: 0.2500 - 3s/epoch - 349ms/step\n",
      "Epoch 16/10000\n",
      "10/10 - 3s - loss: 58799560.0000 - accuracy: 0.5652 - lr: 0.2500 - 3s/epoch - 333ms/step\n",
      "Epoch 17/10000\n",
      "10/10 - 3s - loss: 61969268.0000 - accuracy: 0.5652 - lr: 0.2500 - 3s/epoch - 335ms/step\n",
      "Epoch 18/10000\n",
      "10/10 - 3s - loss: 63399744.0000 - accuracy: 0.5652 - lr: 0.2500 - 3s/epoch - 335ms/step\n",
      "Epoch 19/10000\n"
     ]
    }
   ],
   "source": [
    "tf.config.experimental_run_functions_eagerly(True)\n",
    "model.fit(trainX,\n",
    "          trainY,\n",
    "          epochs=10000,\n",
    "          batch_size=1,\n",
    "          verbose=2,\n",
    "          callbacks=[lrr,es_callback],\n",
    "          \n",
    "         )"
   ]
  },
  {
   "cell_type": "code",
   "execution_count": 153,
   "id": "43418542",
   "metadata": {},
   "outputs": [],
   "source": [
    "out = model.predict(trainX)"
   ]
  },
  {
   "cell_type": "code",
   "execution_count": 155,
   "id": "9573590b",
   "metadata": {},
   "outputs": [
    {
     "name": "stdout",
     "output_type": "stream",
     "text": [
      "[[[1. 1. 1. ... 1. 1. 1.]\n",
      "  [1. 1. 1. ... 1. 1. 1.]\n",
      "  [1. 1. 1. ... 1. 1. 1.]\n",
      "  ...\n",
      "  [1. 1. 1. ... 1. 1. 1.]\n",
      "  [1. 1. 1. ... 1. 1. 1.]\n",
      "  [1. 1. 1. ... 1. 1. 1.]]\n",
      "\n",
      " [[1. 1. 1. ... 1. 1. 1.]\n",
      "  [1. 1. 1. ... 1. 1. 1.]\n",
      "  [1. 1. 1. ... 1. 1. 1.]\n",
      "  ...\n",
      "  [1. 1. 1. ... 1. 1. 1.]\n",
      "  [1. 1. 1. ... 1. 1. 1.]\n",
      "  [1. 1. 1. ... 1. 1. 1.]]\n",
      "\n",
      " [[1. 1. 1. ... 1. 1. 1.]\n",
      "  [1. 1. 1. ... 1. 1. 1.]\n",
      "  [1. 1. 1. ... 1. 1. 1.]\n",
      "  ...\n",
      "  [1. 1. 1. ... 1. 1. 1.]\n",
      "  [1. 1. 1. ... 1. 1. 1.]\n",
      "  [1. 1. 1. ... 1. 1. 1.]]\n",
      "\n",
      " ...\n",
      "\n",
      " [[1. 1. 1. ... 1. 1. 1.]\n",
      "  [1. 1. 1. ... 1. 1. 1.]\n",
      "  [1. 1. 1. ... 1. 1. 1.]\n",
      "  ...\n",
      "  [1. 1. 1. ... 1. 1. 1.]\n",
      "  [1. 1. 1. ... 1. 1. 1.]\n",
      "  [1. 1. 1. ... 1. 1. 1.]]\n",
      "\n",
      " [[1. 1. 1. ... 1. 1. 1.]\n",
      "  [1. 1. 1. ... 1. 1. 1.]\n",
      "  [1. 1. 1. ... 1. 1. 1.]\n",
      "  ...\n",
      "  [1. 1. 1. ... 1. 1. 1.]\n",
      "  [1. 1. 1. ... 1. 1. 1.]\n",
      "  [1. 1. 1. ... 1. 1. 1.]]\n",
      "\n",
      " [[1. 1. 1. ... 1. 1. 1.]\n",
      "  [1. 1. 1. ... 1. 1. 1.]\n",
      "  [1. 1. 1. ... 1. 1. 1.]\n",
      "  ...\n",
      "  [1. 1. 1. ... 1. 1. 1.]\n",
      "  [1. 1. 1. ... 1. 1. 1.]\n",
      "  [1. 1. 1. ... 1. 1. 1.]]]\n"
     ]
    }
   ],
   "source": [
    "print(np.reshape(out,(10,45,64)))"
   ]
  },
  {
   "cell_type": "code",
   "execution_count": 156,
   "id": "2782c4d4",
   "metadata": {},
   "outputs": [
    {
     "data": {
      "text/plain": [
       "<matplotlib.image.AxesImage at 0x2942c204b08>"
      ]
     },
     "execution_count": 156,
     "metadata": {},
     "output_type": "execute_result"
    },
    {
     "data": {
      "image/png": "[encoded data removed]",
      "text/plain": [
       "<Figure size 432x288 with 1 Axes>"
      ]
     },
     "metadata": {
      "needs_background": "light"
     },
     "output_type": "display_data"
    }
   ],
   "source": [
    "plt.imshow(np.reshape(out,(10,45,64))[0])"
   ]
  },
  {
   "cell_type": "code",
   "execution_count": 132,
   "id": "f6e2fa40",
   "metadata": {},
   "outputs": [
    {
     "data": {
      "text/plain": [
       "<matplotlib.image.AxesImage at 0x2943cbccd08>"
      ]
     },
     "execution_count": 132,
     "metadata": {},
     "output_type": "execute_result"
    },
    {
     "data": {
      "image/png": "[encoded data removed]",
      "text/plain": [
       "<Figure size 432x288 with 1 Axes>"
      ]
     },
     "metadata": {
      "needs_background": "light"
     },
     "output_type": "display_data"
    }
   ],
   "source": [
    "plt.imshow(train_img[4])"
   ]
  },
  {
   "cell_type": "code",
   "execution_count": 133,
   "id": "e56345b7",
   "metadata": {
    "scrolled": true
   },
   "outputs": [
    {
     "name": "stdout",
     "output_type": "stream",
     "text": [
      "(295, 45, 64)\n",
      "0\n",
      "5\n",
      "10\n",
      "15\n",
      "20\n",
      "25\n",
      "30\n",
      "35\n",
      "40\n",
      "45\n",
      "50\n",
      "55\n",
      "60\n",
      "65\n"
     ]
    }
   ],
   "source": [
    "print(np.shape(test_img))\n",
    "test_out = []\n",
    "out = []\n",
    "for i in range(0, 70, 5):\n",
    "    print(i)\n",
    "    #print(np.shape(test_img[i:i+4]))\n",
    "    testX = np.expand_dims(np.rollaxis(np.array(test_img[i:i+4]), 0, 3),axis=0)\n",
    "    \n",
    "    testY = np.expand_dims(np.reshape(test_img[i+4],(45*64)),axis=0)\n",
    "    #plt.imshow(np.reshape(testY,(90,128))), plt.show()\n",
    "    \n",
    "    out.append(model.predict(testX))\n",
    "    test_out.append(np.reshape(testY,(45,64)))\n",
    "\n",
    "    #print(np.shape(testX))\n",
    "    #print(np.shape(testY))\n"
   ]
  },
  {
   "cell_type": "code",
   "execution_count": 134,
   "id": "058cc9af",
   "metadata": {},
   "outputs": [
    {
     "name": "stdout",
     "output_type": "stream",
     "text": [
      "(14, 45, 64)\n"
     ]
    }
   ],
   "source": [
    "print(np.shape(np.reshape(test_out,(14,45,64))))"
   ]
  },
  {
   "cell_type": "code",
   "execution_count": 135,
   "id": "67c5b14e",
   "metadata": {},
   "outputs": [
    {
     "name": "stdout",
     "output_type": "stream",
     "text": [
      "(14, 45, 64)\n"
     ]
    }
   ],
   "source": [
    "print(np.shape(np.reshape(out,(14,45,64\n",
    "                              \n",
    "                              \n",
    "                              ))))"
   ]
  },
  {
   "cell_type": "code",
   "execution_count": 136,
   "id": "7898c686",
   "metadata": {},
   "outputs": [
    {
     "data": {
      "image/png": "[encoded data removed]",
      "text/plain": [
       "<Figure size 432x288 with 1 Axes>"
      ]
     },
     "metadata": {
      "needs_background": "light"
     },
     "output_type": "display_data"
    },
    {
     "data": {
      "image/png": "[encoded data removed]",
      "text/plain": [
       "<Figure size 432x288 with 1 Axes>"
      ]
     },
     "metadata": {
      "needs_background": "light"
     },
     "output_type": "display_data"
    },
    {
     "data": {
      "image/png": "[encoded data removed]",
      "text/plain": [
       "<Figure size 432x288 with 1 Axes>"
      ]
     },
     "metadata": {
      "needs_background": "light"
     },
     "output_type": "display_data"
    },
    {
     "data": {
      "image/png": "[encoded data removed]",
      "text/plain": [
       "<Figure size 432x288 with 1 Axes>"
      ]
     },
     "metadata": {
      "needs_background": "light"
     },
     "output_type": "display_data"
    },
    {
     "data": {
      "image/png": "[encoded data removed]",
      "text/plain": [
       "<Figure size 432x288 with 1 Axes>"
      ]
     },
     "metadata": {
      "needs_background": "light"
     },
     "output_type": "display_data"
    },
    {
     "data": {
      "image/png": "[encoded data removed]",
      "text/plain": [
       "<Figure size 432x288 with 1 Axes>"
      ]
     },
     "metadata": {
      "needs_background": "light"
     },
     "output_type": "display_data"
    },
    {
     "data": {
      "image/png": "[encoded data removed]",
      "text/plain": [
       "<Figure size 432x288 with 1 Axes>"
      ]
     },
     "metadata": {
      "needs_background": "light"
     },
     "output_type": "display_data"
    },
    {
     "data": {
      "image/png": "[encoded data removed]",
      "text/plain": [
       "<Figure size 432x288 with 1 Axes>"
      ]
     },
     "metadata": {
      "needs_background": "light"
     },
     "output_type": "display_data"
    },
    {
     "data": {
      "image/png": "[encoded data removed]",
      "text/plain": [
       "<Figure size 432x288 with 1 Axes>"
      ]
     },
     "metadata": {
      "needs_background": "light"
     },
     "output_type": "display_data"
    },
    {
     "data": {
      "image/png": "[encoded data removed]",
      "text/plain": [
       "<Figure size 432x288 with 1 Axes>"
      ]
     },
     "metadata": {
      "needs_background": "light"
     },
     "output_type": "display_data"
    },
    {
     "data": {
      "image/png": "[encoded data removed]",
      "text/plain": [
       "<Figure size 432x288 with 1 Axes>"
      ]
     },
     "metadata": {
      "needs_background": "light"
     },
     "output_type": "display_data"
    },
    {
     "data": {
      "image/png": "[encoded data removed]",
      "text/plain": [
       "<Figure size 432x288 with 1 Axes>"
      ]
     },
     "metadata": {
      "needs_background": "light"
     },
     "output_type": "display_data"
    },
    {
     "data": {
      "image/png": "[encoded data removed]",
      "text/plain": [
       "<Figure size 432x288 with 1 Axes>"
      ]
     },
     "metadata": {
      "needs_background": "light"
     },
     "output_type": "display_data"
    },
    {
     "data": {
      "image/png": "[encoded data removed]",
      "text/plain": [
       "<Figure size 432x288 with 1 Axes>"
      ]
     },
     "metadata": {
      "needs_background": "light"
     },
     "output_type": "display_data"
    },
    {
     "data": {
      "image/png": "[encoded data removed]",
      "text/plain": [
       "<Figure size 432x288 with 1 Axes>"
      ]
     },
     "metadata": {
      "needs_background": "light"
     },
     "output_type": "display_data"
    },
    {
     "data": {
      "image/png": "[encoded data removed]",
      "text/plain": [
       "<Figure size 432x288 with 1 Axes>"
      ]
     },
     "metadata": {
      "needs_background": "light"
     },
     "output_type": "display_data"
    },
    {
     "data": {
      "image/png": "[encoded data removed]",
      "text/plain": [
       "<Figure size 432x288 with 1 Axes>"
      ]
     },
     "metadata": {
      "needs_background": "light"
     },
     "output_type": "display_data"
    },
    {
     "data": {
      "image/png": "[encoded data removed]",
      "text/plain": [
       "<Figure size 432x288 with 1 Axes>"
      ]
     },
     "metadata": {
      "needs_background": "light"
     },
     "output_type": "display_data"
    },
    {
     "data": {
      "image/png": "[encoded data removed]",
      "text/plain": [
       "<Figure size 432x288 with 1 Axes>"
      ]
     },
     "metadata": {
      "needs_background": "light"
     },
     "output_type": "display_data"
    },
    {
     "data": {
      "image/png": "[encoded data removed]",
      "text/plain": [
       "<Figure size 432x288 with 1 Axes>"
      ]
     },
     "metadata": {
      "needs_background": "light"
     },
     "output_type": "display_data"
    },
    {
     "data": {
      "image/png": "[encoded data removed]",
      "text/plain": [
       "<Figure size 432x288 with 1 Axes>"
      ]
     },
     "metadata": {
      "needs_background": "light"
     },
     "output_type": "display_data"
    },
    {
     "data": {
      "image/png": "[encoded data removed]",
      "text/plain": [
       "<Figure size 432x288 with 1 Axes>"
      ]
     },
     "metadata": {
      "needs_background": "light"
     },
     "output_type": "display_data"
    },
    {
     "data": {
      "image/png": "[encoded data removed]",
      "text/plain": [
       "<Figure size 432x288 with 1 Axes>"
      ]
     },
     "metadata": {
      "needs_background": "light"
     },
     "output_type": "display_data"
    },
    {
     "data": {
      "image/png": "[encoded data removed]",
      "text/plain": [
       "<Figure size 432x288 with 1 Axes>"
      ]
     },
     "metadata": {
      "needs_background": "light"
     },
     "output_type": "display_data"
    },
    {
     "data": {
      "image/png": "[encoded data removed]",
      "text/plain": [
       "<Figure size 432x288 with 1 Axes>"
      ]
     },
     "metadata": {
      "needs_background": "light"
     },
     "output_type": "display_data"
    },
    {
     "data": {
      "image/png": "[encoded data removed]",
      "text/plain": [
       "<Figure size 432x288 with 1 Axes>"
      ]
     },
     "metadata": {
      "needs_background": "light"
     },
     "output_type": "display_data"
    },
    {
     "data": {
      "image/png": "[encoded data removed]",
      "text/plain": [
       "<Figure size 432x288 with 1 Axes>"
      ]
     },
     "metadata": {
      "needs_background": "light"
     },
     "output_type": "display_data"
    },
    {
     "data": {
      "image/png": "[encoded data removed]",
      "text/plain": [
       "<Figure size 432x288 with 1 Axes>"
      ]
     },
     "metadata": {
      "needs_background": "light"
     },
     "output_type": "display_data"
    }
   ],
   "source": [
    "out_imgs = np.reshape(out,(14,45,64))\n",
    "test_images = np.reshape(test_out,(14,45,64))\n",
    "for i in range(14):\n",
    "    plt.imshow(out_imgs[i]), plt.show()\n",
    "    plt.imshow(test_images[i]), plt.show()\n",
    "    "
   ]
  },
  {
   "cell_type": "code",
   "execution_count": null,
   "id": "ec011f6f",
   "metadata": {},
   "outputs": [],
   "source": []
  },
  {
   "cell_type": "code",
   "execution_count": null,
   "id": "60b3fb50",
   "metadata": {},
   "outputs": [],
   "source": []
  },
  {
   "cell_type": "code",
   "execution_count": null,
   "id": "9e73731a",
   "metadata": {},
   "outputs": [],
   "source": []
  },
  {
   "cell_type": "code",
   "execution_count": null,
   "id": "2cc1338d",
   "metadata": {},
   "outputs": [],
   "source": []
  },
  {
   "cell_type": "code",
   "execution_count": 95,
   "id": "b0c27c89",
   "metadata": {},
   "outputs": [],
   "source": [
    "from tensorflow import keras\n",
    "from tensorflow.keras import layers\n",
    "from tensorflow.keras.optimizers import Adam\n",
    "from keras.callbacks import ModelCheckpoint\n",
    "from tensorflow.keras.utils import plot_model\n",
    "\n",
    "from matplotlib import pyplot as plt\n",
    "from keras import backend as K\n",
    "from glob import glob\n",
    "import numpy as np\n",
    "import cv2\n",
    "import random"
   ]
  },
  {
   "cell_type": "code",
   "execution_count": null,
   "id": "b14d25eb",
   "metadata": {},
   "outputs": [],
   "source": []
  },
  {
   "cell_type": "code",
   "execution_count": 96,
   "id": "58198779",
   "metadata": {},
   "outputs": [],
   "source": [
    "trainX = []\n",
    "trainY = []\n",
    "\n",
    "flag = True\n",
    "for y in range(0, np.shape(lst_of_img[0])[0], 4):\n",
    "    for x in range(0, np.shape(lst_of_img[0])[1], 4):\n",
    "        # yield the current window\n",
    "        train_imgs = []\n",
    "        for i in range (len(lst_of_img)):\n",
    "            cropped_img = lst_of_img[i][y:y + 4, x:x + 4]\n",
    "            if i != 4: \n",
    "                train_imgs.append(cropped_img)\n",
    "            if i == 4:\n",
    "                trainY.append(cropped_img)\n",
    "        trainX.append(train_imgs)\n",
    "            \n",
    "\n"
   ]
  },
  {
   "cell_type": "code",
   "execution_count": 97,
   "id": "bd4981d3",
   "metadata": {},
   "outputs": [
    {
     "name": "stdout",
     "output_type": "stream",
     "text": [
      "(11520, 4, 4, 4)\n"
     ]
    }
   ],
   "source": [
    "print(np.shape(trainX))"
   ]
  },
  {
   "cell_type": "code",
   "execution_count": 98,
   "id": "4438a3ce",
   "metadata": {},
   "outputs": [
    {
     "name": "stdout",
     "output_type": "stream",
     "text": [
      "(11520, 4, 4)\n"
     ]
    }
   ],
   "source": [
    "print(np.shape(trainY))"
   ]
  },
  {
   "cell_type": "code",
   "execution_count": 99,
   "id": "165b8b45",
   "metadata": {},
   "outputs": [],
   "source": [
    "trainX = np.reshape(trainX,(11520,16,4))\n",
    "trainY = np.reshape(trainY,(11520, 16))"
   ]
  },
  {
   "cell_type": "code",
   "execution_count": 100,
   "id": "286d92c8",
   "metadata": {},
   "outputs": [
    {
     "name": "stdout",
     "output_type": "stream",
     "text": [
      "(11520, 16)\n"
     ]
    }
   ],
   "source": [
    "print(np.shape(trainY))"
   ]
  },
  {
   "cell_type": "code",
   "execution_count": 101,
   "id": "83358f33",
   "metadata": {},
   "outputs": [
    {
     "name": "stdout",
     "output_type": "stream",
     "text": [
      "[255 255 255 255 255 255 255 255 255 255 255 255 255 255 255 255]\n"
     ]
    }
   ],
   "source": [
    "print(trainY[0])"
   ]
  },
  {
   "cell_type": "code",
   "execution_count": 102,
   "id": "dd4c81f9",
   "metadata": {},
   "outputs": [],
   "source": [
    "for i in range(len(trainY)):\n",
    "    for j in range(len(trainY[i])):\n",
    "        if trainY[i,j] == 255:\n",
    "            trainY[i,j] = 1\n",
    "        else:\n",
    "            trainY[i,j] = 0"
   ]
  },
  {
   "cell_type": "code",
   "execution_count": 103,
   "id": "2582669e",
   "metadata": {},
   "outputs": [
    {
     "name": "stdout",
     "output_type": "stream",
     "text": [
      "(11520, 16)\n",
      "[1 1 1 1 1 1 1 1 1 1 1 1 1 1 1 1]\n"
     ]
    }
   ],
   "source": [
    "print(np.shape(trainY))\n",
    "print(trainY[0])"
   ]
  },
  {
   "cell_type": "code",
   "execution_count": 104,
   "id": "7a724952",
   "metadata": {},
   "outputs": [
    {
     "name": "stdout",
     "output_type": "stream",
     "text": [
      "(3110, 16, 4)\n",
      "(8410, 16, 4)\n",
      "(3110, 16)\n",
      "(8410, 16)\n"
     ]
    }
   ],
   "source": [
    "X_train, X_test, y_train, y_test = train_test_split(trainX, trainY, test_size=0.73)\n",
    "print(np.shape(X_train))\n",
    "print(np.shape(X_test))\n",
    "print(np.shape(y_train))\n",
    "print(np.shape(y_test))"
   ]
  },
  {
   "cell_type": "code",
   "execution_count": 105,
   "id": "a14e29ce",
   "metadata": {},
   "outputs": [
    {
     "name": "stdout",
     "output_type": "stream",
     "text": [
      "Model: \"sequential_14\"\n",
      "_________________________________________________________________\n",
      " Layer (type)                Output Shape              Param #   \n",
      "=================================================================\n",
      " reshape_22 (Reshape)        (None, 4, 4, 4)           0         \n",
      "                                                                 \n",
      " conv1 (Conv2D)              (None, 4, 4, 64)          1088      \n",
      "                                                                 \n",
      " conv2 (Conv2D)              (None, 4, 4, 64)          16448     \n",
      "                                                                 \n",
      " conv3 (Conv2D)              (None, 4, 4, 128)         73856     \n",
      "                                                                 \n",
      " conv4 (Conv2D)              (None, 4, 4, 128)         147584    \n",
      "                                                                 \n",
      " conv5 (Conv2D)              (None, 4, 4, 256)         295168    \n",
      "                                                                 \n",
      " conv6 (Conv2D)              (None, 4, 4, 256)         590080    \n",
      "                                                                 \n",
      " flatten_21 (Flatten)        (None, 4096)              0         \n",
      "                                                                 \n",
      " FC1 (Dense)                 (None, 2048)              8390656   \n",
      "                                                                 \n",
      " dropout_44 (Dropout)        (None, 2048)              0         \n",
      "                                                                 \n",
      " FC2 (Dense)                 (None, 1024)              2098176   \n",
      "                                                                 \n",
      " dropout_45 (Dropout)        (None, 1024)              0         \n",
      "                                                                 \n",
      " dense_22 (Dense)            (None, 256)               262400    \n",
      "                                                                 \n",
      " dropout_46 (Dropout)        (None, 256)               0         \n",
      "                                                                 \n",
      " dense_23 (Dense)            (None, 16)                4112      \n",
      "                                                                 \n",
      "=================================================================\n",
      "Total params: 11,879,568\n",
      "Trainable params: 11,879,568\n",
      "Non-trainable params: 0\n",
      "_________________________________________________________________\n"
     ]
    }
   ],
   "source": [
    "drop_prob_1 = 0.5\n",
    "input_shape=(16,4)\n",
    "\n",
    "model = keras.Sequential()\n",
    "model.add(keras.Input(shape=input_shape))\n",
    "model.add(layers.Reshape((4,4,4)))\n",
    "model.add(layers.Conv2D(64, kernel_size=(2, 2), strides=(1, 1), padding='same', name='conv1', activation=\"relu\"))\n",
    "model.add(layers.Conv2D(64, kernel_size=(2, 2), strides=(1, 1), padding='same', name='conv2', activation=\"relu\"))\n",
    "model.add(layers.Conv2D(128, kernel_size=(3, 3), strides=(1, 1), padding='same', name='conv3', activation='relu'))\n",
    "model.add(layers.Conv2D(128, kernel_size=(3, 3), strides=(1, 1), padding='same', name='conv4', activation='relu'))\n",
    "model.add(layers.Conv2D(256, kernel_size=(3, 3), strides=(1, 1), padding='same', name='conv5', activation='relu'))\n",
    "model.add(layers.Conv2D(256, kernel_size=(3, 3), strides=(1, 1), padding='same', name='conv6', activation='relu'))\n",
    "\n",
    "model.add(layers.Flatten())\n",
    "model.add(layers.Dense(2048, name='FC1'))\n",
    "model.add(layers.Dropout(drop_prob_1))\n",
    "model.add(layers.Dense(1024, name='FC2'))\n",
    "model.add(layers.Dropout(drop_prob_1))\n",
    "\n",
    "model.add(Dense(256, activation='sigmoid'))\n",
    "model.add(Dropout(0.5))\n",
    "model.add(Dense(16, activation='sigmoid'))\n",
    "\n",
    "#plot_model(model, to_file='homography_model.png', show_shapes=True)\n",
    "\n",
    "\n",
    "#model = define_cudnn_model()\n",
    "#model = define_clasical_model()\n",
    "\n",
    "model.summary()\n",
    "es_callback = keras.callbacks.EarlyStopping(monitor='loss', patience=10)\n",
    "lrr= ReduceLROnPlateau(monitor='accuracy',   factor=.5,   patience=2,  min_lr=1e-20) \n",
    "\n",
    "#validation_data=(X, Y)\n",
    "\n",
    "#model.add(Dense(2))\n",
    "#model.compile(loss = keras.losses.categorical_crossentropy, optimizer= 'adam', metrics=['accuracy'])\n",
    "model.compile(optimizer=tf.keras.optimizers.Adam(learning_rate=0.5),\n",
    "              loss=tf.keras.losses.CategoricalCrossentropy(),\n",
    "              metrics=[tf.keras.metrics.Accuracy()])\n",
    "#Model Summary\n",
    "\n",
    "# model.compile(optimizer='adam',\n",
    "#               loss=tf.keras.losses.SparseCategoricalCrossentropy(from_logits=True),\n",
    "#               metrics=['accuracy'])"
   ]
  },
  {
   "cell_type": "code",
   "execution_count": 106,
   "id": "c5d7a164",
   "metadata": {},
   "outputs": [
    {
     "name": "stdout",
     "output_type": "stream",
     "text": [
      "(11520, 16, 4)\n",
      "(11520, 16, 4)\n",
      "(11520, 16)\n"
     ]
    }
   ],
   "source": [
    "print(np.shape(trainX))\n",
    "trainX = np.reshape(trainX,(11520,16,4))\n",
    "print(np.shape(trainX))\n",
    "print(np.shape(trainY))"
   ]
  },
  {
   "cell_type": "code",
   "execution_count": 107,
   "id": "aa6d8190",
   "metadata": {},
   "outputs": [
    {
     "name": "stdout",
     "output_type": "stream",
     "text": [
      "Epoch 1/1000\n"
     ]
    },
    {
     "name": "stderr",
     "output_type": "stream",
     "text": [
      "C:\\Users\\ionut.girla\\Anaconda3\\envs\\articol\\lib\\site-packages\\tensorflow\\python\\data\\ops\\structured_function.py:265: UserWarning: Even though the `tf.config.experimental_run_functions_eagerly` option is set, this option does not apply to tf.data functions. To force eager execution of tf.data functions, please use `tf.data.experimental.enable_debug_mode()`.\n",
      "  \"Even though the `tf.config.experimental_run_functions_eagerly` \"\n"
     ]
    },
    {
     "name": "stdout",
     "output_type": "stream",
     "text": [
      "78/78 - 2s - loss: 56.3291 - accuracy: 0.8335 - lr: 0.5000 - 2s/epoch - 31ms/step\n",
      "Epoch 2/1000\n",
      "78/78 - 2s - loss: 68.9233 - accuracy: 0.8450 - lr: 0.5000 - 2s/epoch - 26ms/step\n",
      "Epoch 3/1000\n",
      "78/78 - 2s - loss: 73.7255 - accuracy: 0.8450 - lr: 0.5000 - 2s/epoch - 25ms/step\n",
      "Epoch 4/1000\n",
      "78/78 - 2s - loss: 75.7646 - accuracy: 0.8450 - lr: 0.5000 - 2s/epoch - 25ms/step\n",
      "Epoch 5/1000\n",
      "78/78 - 2s - loss: 69.2645 - accuracy: 0.8450 - lr: 0.2500 - 2s/epoch - 25ms/step\n",
      "Epoch 6/1000\n",
      "78/78 - 2s - loss: 63.8859 - accuracy: 0.8450 - lr: 0.2500 - 2s/epoch - 25ms/step\n",
      "Epoch 7/1000\n",
      "78/78 - 2s - loss: 60.0527 - accuracy: 0.8450 - lr: 0.1250 - 2s/epoch - 25ms/step\n",
      "Epoch 8/1000\n",
      "78/78 - 2s - loss: 57.3516 - accuracy: 0.8450 - lr: 0.1250 - 2s/epoch - 25ms/step\n",
      "Epoch 9/1000\n",
      "78/78 - 2s - loss: 55.7092 - accuracy: 0.8450 - lr: 0.0625 - 2s/epoch - 25ms/step\n",
      "Epoch 10/1000\n",
      "78/78 - 2s - loss: 54.6499 - accuracy: 0.8450 - lr: 0.0625 - 2s/epoch - 25ms/step\n",
      "Epoch 11/1000\n",
      "78/78 - 2s - loss: 53.7549 - accuracy: 0.8450 - lr: 0.0312 - 2s/epoch - 25ms/step\n",
      "Epoch 12/1000\n",
      "78/78 - 2s - loss: 53.2536 - accuracy: 0.8450 - lr: 0.0312 - 2s/epoch - 25ms/step\n",
      "Epoch 13/1000\n",
      "78/78 - 2s - loss: 53.1331 - accuracy: 0.8450 - lr: 0.0156 - 2s/epoch - 25ms/step\n",
      "Epoch 14/1000\n",
      "78/78 - 2s - loss: 52.7878 - accuracy: 0.8450 - lr: 0.0156 - 2s/epoch - 25ms/step\n",
      "Epoch 15/1000\n",
      "78/78 - 2s - loss: 52.8874 - accuracy: 0.8450 - lr: 0.0078 - 2s/epoch - 25ms/step\n",
      "Epoch 16/1000\n",
      "78/78 - 2s - loss: 52.5922 - accuracy: 0.8450 - lr: 0.0078 - 2s/epoch - 25ms/step\n",
      "Epoch 17/1000\n",
      "78/78 - 2s - loss: 52.6452 - accuracy: 0.8450 - lr: 0.0039 - 2s/epoch - 25ms/step\n",
      "Epoch 18/1000\n",
      "78/78 - 2s - loss: 52.4258 - accuracy: 0.8450 - lr: 0.0039 - 2s/epoch - 25ms/step\n",
      "Epoch 19/1000\n",
      "78/78 - 2s - loss: 52.4300 - accuracy: 0.8450 - lr: 0.0020 - 2s/epoch - 25ms/step\n",
      "Epoch 20/1000\n",
      "78/78 - 2s - loss: 52.3531 - accuracy: 0.8450 - lr: 0.0020 - 2s/epoch - 25ms/step\n",
      "Epoch 21/1000\n",
      "78/78 - 2s - loss: 52.4057 - accuracy: 0.8450 - lr: 9.7656e-04 - 2s/epoch - 25ms/step\n",
      "Epoch 22/1000\n",
      "78/78 - 2s - loss: 52.2709 - accuracy: 0.8450 - lr: 9.7656e-04 - 2s/epoch - 25ms/step\n",
      "Epoch 23/1000\n",
      "78/78 - 2s - loss: 52.4970 - accuracy: 0.8450 - lr: 4.8828e-04 - 2s/epoch - 25ms/step\n",
      "Epoch 24/1000\n",
      "78/78 - 2s - loss: 52.2594 - accuracy: 0.8450 - lr: 4.8828e-04 - 2s/epoch - 25ms/step\n",
      "Epoch 25/1000\n",
      "78/78 - 2s - loss: 52.3228 - accuracy: 0.8450 - lr: 2.4414e-04 - 2s/epoch - 25ms/step\n",
      "Epoch 26/1000\n",
      "78/78 - 2s - loss: 52.3161 - accuracy: 0.8450 - lr: 2.4414e-04 - 2s/epoch - 25ms/step\n",
      "Epoch 27/1000\n",
      "78/78 - 2s - loss: 52.3859 - accuracy: 0.8450 - lr: 1.2207e-04 - 2s/epoch - 25ms/step\n",
      "Epoch 28/1000\n",
      "78/78 - 2s - loss: 52.5010 - accuracy: 0.8450 - lr: 1.2207e-04 - 2s/epoch - 25ms/step\n",
      "Epoch 29/1000\n",
      "78/78 - 2s - loss: 52.4870 - accuracy: 0.8450 - lr: 6.1035e-05 - 2s/epoch - 25ms/step\n",
      "Epoch 30/1000\n",
      "78/78 - 2s - loss: 52.4042 - accuracy: 0.8450 - lr: 6.1035e-05 - 2s/epoch - 25ms/step\n",
      "Epoch 31/1000\n",
      "78/78 - 2s - loss: 52.5592 - accuracy: 0.8450 - lr: 3.0518e-05 - 2s/epoch - 25ms/step\n",
      "Epoch 32/1000\n",
      "78/78 - 2s - loss: 52.5914 - accuracy: 0.8450 - lr: 3.0518e-05 - 2s/epoch - 25ms/step\n",
      "Epoch 33/1000\n",
      "78/78 - 2s - loss: 52.3864 - accuracy: 0.8450 - lr: 1.5259e-05 - 2s/epoch - 25ms/step\n",
      "Epoch 34/1000\n",
      "78/78 - 2s - loss: 52.0350 - accuracy: 0.8450 - lr: 1.5259e-05 - 2s/epoch - 25ms/step\n",
      "Epoch 35/1000\n",
      "78/78 - 2s - loss: 52.3463 - accuracy: 0.8450 - lr: 7.6294e-06 - 2s/epoch - 25ms/step\n",
      "Epoch 36/1000\n",
      "78/78 - 2s - loss: 52.2426 - accuracy: 0.8450 - lr: 7.6294e-06 - 2s/epoch - 25ms/step\n",
      "Epoch 37/1000\n",
      "78/78 - 2s - loss: 52.4040 - accuracy: 0.8450 - lr: 3.8147e-06 - 2s/epoch - 25ms/step\n",
      "Epoch 38/1000\n",
      "78/78 - 2s - loss: 52.3155 - accuracy: 0.8450 - lr: 3.8147e-06 - 2s/epoch - 25ms/step\n",
      "Epoch 39/1000\n",
      "78/78 - 2s - loss: 52.4323 - accuracy: 0.8450 - lr: 1.9073e-06 - 2s/epoch - 25ms/step\n",
      "Epoch 40/1000\n",
      "78/78 - 2s - loss: 52.3242 - accuracy: 0.8450 - lr: 1.9073e-06 - 2s/epoch - 25ms/step\n",
      "Epoch 41/1000\n",
      "78/78 - 2s - loss: 52.4523 - accuracy: 0.8450 - lr: 9.5367e-07 - 2s/epoch - 25ms/step\n",
      "Epoch 42/1000\n",
      "78/78 - 2s - loss: 52.5053 - accuracy: 0.8450 - lr: 9.5367e-07 - 2s/epoch - 25ms/step\n",
      "Epoch 43/1000\n",
      "78/78 - 2s - loss: 52.2368 - accuracy: 0.8450 - lr: 4.7684e-07 - 2s/epoch - 25ms/step\n",
      "Epoch 44/1000\n",
      "78/78 - 2s - loss: 52.5061 - accuracy: 0.8450 - lr: 4.7684e-07 - 2s/epoch - 26ms/step\n"
     ]
    },
    {
     "data": {
      "text/plain": [
       "<keras.callbacks.History at 0x20826ea7f88>"
      ]
     },
     "execution_count": 107,
     "metadata": {},
     "output_type": "execute_result"
    }
   ],
   "source": [
    "tf.config.experimental_run_functions_eagerly(True)\n",
    "model.fit(X_train,\n",
    "          y_train,\n",
    "          epochs=1000,\n",
    "          batch_size=40,\n",
    "          verbose=2,\n",
    "          callbacks=[lrr,es_callback],\n",
    "          \n",
    "         )"
   ]
  },
  {
   "cell_type": "code",
   "execution_count": 108,
   "id": "0adf842a",
   "metadata": {},
   "outputs": [],
   "source": [
    "out = model.predict(X_test)"
   ]
  },
  {
   "cell_type": "code",
   "execution_count": 109,
   "id": "83b1e8fc",
   "metadata": {},
   "outputs": [
    {
     "name": "stdout",
     "output_type": "stream",
     "text": [
      "(8410, 16)\n"
     ]
    }
   ],
   "source": [
    "print(np.shape(out))"
   ]
  },
  {
   "cell_type": "code",
   "execution_count": 110,
   "id": "6234d7f2",
   "metadata": {},
   "outputs": [
    {
     "name": "stdout",
     "output_type": "stream",
     "text": [
      "[1. 1. 1. 1. 1. 1. 1. 1. 1. 1. 1. 1. 1. 1. 1. 1.]\n"
     ]
    }
   ],
   "source": [
    "print(out[0])"
   ]
  },
  {
   "cell_type": "code",
   "execution_count": 111,
   "id": "f71e3c8b",
   "metadata": {},
   "outputs": [
    {
     "name": "stdout",
     "output_type": "stream",
     "text": [
      "[1 1 1 1 1 1 1 1 1 1 1 1 1 1 1 1]\n"
     ]
    }
   ],
   "source": [
    "print(y_test[0])"
   ]
  },
  {
   "cell_type": "code",
   "execution_count": 112,
   "id": "6b0d0f2d",
   "metadata": {},
   "outputs": [
    {
     "data": {
      "text/plain": [
       "0.8082045184304399"
      ]
     },
     "execution_count": 112,
     "metadata": {},
     "output_type": "execute_result"
    }
   ],
   "source": [
    "accuracy_score(y_test, out)"
   ]
  },
  {
   "cell_type": "code",
   "execution_count": null,
   "id": "975e085a",
   "metadata": {},
   "outputs": [],
   "source": []
  }
 ],
 "metadata": {
  "kernelspec": {
   "display_name": "Python 3 (ipykernel)",
   "language": "python",
   "name": "python3"
  },
  "language_info": {
   "codemirror_mode": {
    "name": "ipython",
    "version": 3
   },
   "file_extension": ".py",
   "mimetype": "text/x-python",
   "name": "python",
   "nbconvert_exporter": "python",
   "pygments_lexer": "ipython3",
   "version": "3.7.11"
  }
 },
 "nbformat": 4,
 "nbformat_minor": 5
}
